{
  "nbformat": 4,
  "nbformat_minor": 0,
  "metadata": {
    "colab": {
      "name": "Untitled11.ipynb",
      "provenance": [],
      "collapsed_sections": [],
      "authorship_tag": "ABX9TyN/UOltLQHvdd3o4uW4arz+",
      "include_colab_link": true
    },
    "kernelspec": {
      "name": "python3",
      "display_name": "Python 3"
    },
    "language_info": {
      "name": "python"
    }
  },
  "cells": [
    {
      "cell_type": "markdown",
      "metadata": {
        "id": "view-in-github",
        "colab_type": "text"
      },
      "source": [
        "<a href=\"https://colab.research.google.com/github/Yuvansh1/Pyspark_Practice/blob/master/Data%20Analysis%20with%20PySpark.ipynb\" target=\"_parent\"><img src=\"https://colab.research.google.com/assets/colab-badge.svg\" alt=\"Open In Colab\"/></a>"
      ]
    },
    {
      "cell_type": "markdown",
      "metadata": {
        "id": "Ig3dVV2w-l3I"
      },
      "source": [
        "Please refer following link for detailed info :\n",
        "https://towardsdatascience.com/the-most-complete-guide-to-pyspark-dataframes-2702c343b2e8"
      ]
    },
    {
      "cell_type": "code",
      "metadata": {
        "id": "tt7ZS1_wGgjn",
        "colab": {
          "base_uri": "https://localhost:8080/"
        },
        "outputId": "ad98603c-7ba3-49e9-fb31-0c94a0c8e20f"
      },
      "source": [
        "!apt-get update\n",
        "!apt-get install openjdk-8-jdk-headless -qq > /dev/null\n",
        "!wget -q https://archive.apache.org/dist/spark/spark-3.1.1/spark-3.1.1-bin-hadoop2.7.tgz\n",
        "!tar xf spark-3.1.1-bin-hadoop2.7.tgz\n",
        "!pip install -q findspark"
      ],
      "execution_count": 1,
      "outputs": [
        {
          "output_type": "stream",
          "text": [
            "Ign:1 https://developer.download.nvidia.com/compute/cuda/repos/ubuntu1804/x86_64  InRelease\n",
            "Ign:2 https://developer.download.nvidia.com/compute/machine-learning/repos/ubuntu1804/x86_64  InRelease\n",
            "Get:3 http://security.ubuntu.com/ubuntu bionic-security InRelease [88.7 kB]\n",
            "Get:4 http://ppa.launchpad.net/c2d4u.team/c2d4u4.0+/ubuntu bionic InRelease [15.9 kB]\n",
            "Get:5 https://developer.download.nvidia.com/compute/cuda/repos/ubuntu1804/x86_64  Release [697 B]\n",
            "Hit:6 https://developer.download.nvidia.com/compute/machine-learning/repos/ubuntu1804/x86_64  Release\n",
            "Hit:7 http://archive.ubuntu.com/ubuntu bionic InRelease\n",
            "Get:8 https://developer.download.nvidia.com/compute/cuda/repos/ubuntu1804/x86_64  Release.gpg [836 B]\n",
            "Get:9 http://archive.ubuntu.com/ubuntu bionic-updates InRelease [88.7 kB]\n",
            "Get:10 https://cloud.r-project.org/bin/linux/ubuntu bionic-cran40/ InRelease [3,626 B]\n",
            "Hit:11 http://ppa.launchpad.net/cran/libgit2/ubuntu bionic InRelease\n",
            "Get:13 http://archive.ubuntu.com/ubuntu bionic-backports InRelease [74.6 kB]\n",
            "Hit:14 http://ppa.launchpad.net/deadsnakes/ppa/ubuntu bionic InRelease\n",
            "Hit:15 http://ppa.launchpad.net/graphics-drivers/ppa/ubuntu bionic InRelease\n",
            "Ign:16 https://developer.download.nvidia.com/compute/cuda/repos/ubuntu1804/x86_64  Packages\n",
            "Get:16 https://developer.download.nvidia.com/compute/cuda/repos/ubuntu1804/x86_64  Packages [741 kB]\n",
            "Get:17 http://ppa.launchpad.net/c2d4u.team/c2d4u4.0+/ubuntu bionic/main Sources [1,756 kB]\n",
            "Get:18 http://security.ubuntu.com/ubuntu bionic-security/main amd64 Packages [2,116 kB]\n",
            "Get:19 http://archive.ubuntu.com/ubuntu bionic-updates/multiverse amd64 Packages [31.6 kB]\n",
            "Get:20 http://ppa.launchpad.net/c2d4u.team/c2d4u4.0+/ubuntu bionic/main amd64 Packages [899 kB]\n",
            "Get:21 http://security.ubuntu.com/ubuntu bionic-security/restricted amd64 Packages [396 kB]\n",
            "Get:22 http://security.ubuntu.com/ubuntu bionic-security/multiverse amd64 Packages [24.7 kB]\n",
            "Get:23 http://archive.ubuntu.com/ubuntu bionic-updates/restricted amd64 Packages [426 kB]\n",
            "Get:24 http://archive.ubuntu.com/ubuntu bionic-updates/main amd64 Packages [2,546 kB]\n",
            "Get:25 http://archive.ubuntu.com/ubuntu bionic-updates/universe amd64 Packages [2,181 kB]\n",
            "Fetched 11.4 MB in 4s (3,224 kB/s)\n",
            "Reading package lists... Done\n"
          ],
          "name": "stdout"
        }
      ]
    },
    {
      "cell_type": "code",
      "metadata": {
        "id": "sdOOq4twHN1K"
      },
      "source": [
        "import os\n",
        "os.environ[\"JAVA_HOME\"] = \"/usr/lib/jvm/java-8-openjdk-amd64\"\n",
        "os.environ[\"SPARK_HOME\"] = \"/content/spark-3.1.1-bin-hadoop2.7\""
      ],
      "execution_count": 5,
      "outputs": []
    },
    {
      "cell_type": "code",
      "metadata": {
        "colab": {
          "base_uri": "https://localhost:8080/"
        },
        "id": "3ACYMwhgHTYz",
        "outputId": "0f58a426-8bbf-4aba-aa55-bca248dab6b0"
      },
      "source": [
        "!ls"
      ],
      "execution_count": 3,
      "outputs": [
        {
          "output_type": "stream",
          "text": [
            "sample_data  spark-3.1.1-bin-hadoop2.7\tspark-3.1.1-bin-hadoop2.7.tgz\n"
          ],
          "name": "stdout"
        }
      ]
    },
    {
      "cell_type": "code",
      "metadata": {
        "colab": {
          "base_uri": "https://localhost:8080/",
          "height": 191
        },
        "id": "wjfF7LLgHZe3",
        "outputId": "b5212c76-932a-45f8-c962-c124d874008f"
      },
      "source": [
        "import findspark\n",
        "findspark.init()\n",
        "from pyspark import SparkContext\n",
        "\n",
        "sc = SparkContext.getOrCreate()\n",
        "sc"
      ],
      "execution_count": 6,
      "outputs": [
        {
          "output_type": "execute_result",
          "data": {
            "text/html": [
              "\n",
              "        <div>\n",
              "            <p><b>SparkContext</b></p>\n",
              "\n",
              "            <p><a href=\"http://609e89c6deb3:4040\">Spark UI</a></p>\n",
              "\n",
              "            <dl>\n",
              "              <dt>Version</dt>\n",
              "                <dd><code>v3.1.1</code></dd>\n",
              "              <dt>Master</dt>\n",
              "                <dd><code>local[*]</code></dd>\n",
              "              <dt>AppName</dt>\n",
              "                <dd><code>pyspark-shell</code></dd>\n",
              "            </dl>\n",
              "        </div>\n",
              "        "
            ],
            "text/plain": [
              "<SparkContext master=local[*] appName=pyspark-shell>"
            ]
          },
          "metadata": {
            "tags": []
          },
          "execution_count": 6
        }
      ]
    },
    {
      "cell_type": "code",
      "metadata": {
        "colab": {
          "base_uri": "https://localhost:8080/",
          "height": 214
        },
        "id": "3m63l2pX76xx",
        "outputId": "3079b84d-196b-42e8-86e5-1b130e7aa0c1"
      },
      "source": [
        "import pyspark\n",
        "from pyspark.sql import SparkSession\n",
        "spark = SparkSession.builder.getOrCreate() \n",
        "spark"
      ],
      "execution_count": 7,
      "outputs": [
        {
          "output_type": "execute_result",
          "data": {
            "text/html": [
              "\n",
              "            <div>\n",
              "                <p><b>SparkSession - in-memory</b></p>\n",
              "                \n",
              "        <div>\n",
              "            <p><b>SparkContext</b></p>\n",
              "\n",
              "            <p><a href=\"http://609e89c6deb3:4040\">Spark UI</a></p>\n",
              "\n",
              "            <dl>\n",
              "              <dt>Version</dt>\n",
              "                <dd><code>v3.1.1</code></dd>\n",
              "              <dt>Master</dt>\n",
              "                <dd><code>local[*]</code></dd>\n",
              "              <dt>AppName</dt>\n",
              "                <dd><code>pyspark-shell</code></dd>\n",
              "            </dl>\n",
              "        </div>\n",
              "        \n",
              "            </div>\n",
              "        "
            ],
            "text/plain": [
              "<pyspark.sql.session.SparkSession at 0x7f7c5a439b10>"
            ]
          },
          "metadata": {
            "tags": []
          },
          "execution_count": 7
        }
      ]
    },
    {
      "cell_type": "code",
      "metadata": {
        "colab": {
          "base_uri": "https://localhost:8080/"
        },
        "id": "HvnmgvqH5sKV",
        "outputId": "fb55e34f-b0f3-41cb-d3e5-d746d5dcabc6"
      },
      "source": [
        "cases = spark.read.load(\"Case.csv\",format=\"csv\", sep=\",\", inferSchema=\"true\", header=\"true\")\n",
        "cases.show(5)"
      ],
      "execution_count": 13,
      "outputs": [
        {
          "output_type": "stream",
          "text": [
            "+--------+--------+------------+-----+--------------------+---------+---------+----------+\n",
            "| case_id|province|        city|group|      infection_case|confirmed| latitude| longitude|\n",
            "+--------+--------+------------+-----+--------------------+---------+---------+----------+\n",
            "| 1000001|   Seoul|  Yongsan-gu| true|       Itaewon Clubs|      139|37.538621|126.992652|\n",
            "| 1000002|   Seoul|   Gwanak-gu| true|             Richway|      119| 37.48208|126.901384|\n",
            "| 1000003|   Seoul|     Guro-gu| true| Guro-gu Call Center|       95|37.508163|126.884387|\n",
            "| 1000004|   Seoul|Yangcheon-gu| true|Yangcheon Table T...|       43|37.546061|126.874209|\n",
            "| 1000005|   Seoul|   Dobong-gu| true|     Day Care Center|       43|37.679422|127.044374|\n",
            "+--------+--------+------------+-----+--------------------+---------+---------+----------+\n",
            "only showing top 5 rows\n",
            "\n"
          ],
          "name": "stdout"
        }
      ]
    },
    {
      "cell_type": "code",
      "metadata": {
        "colab": {
          "base_uri": "https://localhost:8080/",
          "height": 343
        },
        "id": "IzJZZsZs9InO",
        "outputId": "58a944d8-678d-4ab7-c5d8-31e00c6864a1"
      },
      "source": [
        "cases.limit(10).toPandas()"
      ],
      "execution_count": 14,
      "outputs": [
        {
          "output_type": "execute_result",
          "data": {
            "text/html": [
              "<div>\n",
              "<style scoped>\n",
              "    .dataframe tbody tr th:only-of-type {\n",
              "        vertical-align: middle;\n",
              "    }\n",
              "\n",
              "    .dataframe tbody tr th {\n",
              "        vertical-align: top;\n",
              "    }\n",
              "\n",
              "    .dataframe thead th {\n",
              "        text-align: right;\n",
              "    }\n",
              "</style>\n",
              "<table border=\"1\" class=\"dataframe\">\n",
              "  <thead>\n",
              "    <tr style=\"text-align: right;\">\n",
              "      <th></th>\n",
              "      <th>case_id</th>\n",
              "      <th>province</th>\n",
              "      <th>city</th>\n",
              "      <th>group</th>\n",
              "      <th>infection_case</th>\n",
              "      <th>confirmed</th>\n",
              "      <th>latitude</th>\n",
              "      <th>longitude</th>\n",
              "    </tr>\n",
              "  </thead>\n",
              "  <tbody>\n",
              "    <tr>\n",
              "      <th>0</th>\n",
              "      <td>1000001</td>\n",
              "      <td>Seoul</td>\n",
              "      <td>Yongsan-gu</td>\n",
              "      <td>True</td>\n",
              "      <td>Itaewon Clubs</td>\n",
              "      <td>139</td>\n",
              "      <td>37.538621</td>\n",
              "      <td>126.992652</td>\n",
              "    </tr>\n",
              "    <tr>\n",
              "      <th>1</th>\n",
              "      <td>1000002</td>\n",
              "      <td>Seoul</td>\n",
              "      <td>Gwanak-gu</td>\n",
              "      <td>True</td>\n",
              "      <td>Richway</td>\n",
              "      <td>119</td>\n",
              "      <td>37.48208</td>\n",
              "      <td>126.901384</td>\n",
              "    </tr>\n",
              "    <tr>\n",
              "      <th>2</th>\n",
              "      <td>1000003</td>\n",
              "      <td>Seoul</td>\n",
              "      <td>Guro-gu</td>\n",
              "      <td>True</td>\n",
              "      <td>Guro-gu Call Center</td>\n",
              "      <td>95</td>\n",
              "      <td>37.508163</td>\n",
              "      <td>126.884387</td>\n",
              "    </tr>\n",
              "    <tr>\n",
              "      <th>3</th>\n",
              "      <td>1000004</td>\n",
              "      <td>Seoul</td>\n",
              "      <td>Yangcheon-gu</td>\n",
              "      <td>True</td>\n",
              "      <td>Yangcheon Table Tennis Club</td>\n",
              "      <td>43</td>\n",
              "      <td>37.546061</td>\n",
              "      <td>126.874209</td>\n",
              "    </tr>\n",
              "    <tr>\n",
              "      <th>4</th>\n",
              "      <td>1000005</td>\n",
              "      <td>Seoul</td>\n",
              "      <td>Dobong-gu</td>\n",
              "      <td>True</td>\n",
              "      <td>Day Care Center</td>\n",
              "      <td>43</td>\n",
              "      <td>37.679422</td>\n",
              "      <td>127.044374</td>\n",
              "    </tr>\n",
              "    <tr>\n",
              "      <th>5</th>\n",
              "      <td>1000006</td>\n",
              "      <td>Seoul</td>\n",
              "      <td>Guro-gu</td>\n",
              "      <td>True</td>\n",
              "      <td>Manmin Central Church</td>\n",
              "      <td>41</td>\n",
              "      <td>37.481059</td>\n",
              "      <td>126.894343</td>\n",
              "    </tr>\n",
              "    <tr>\n",
              "      <th>6</th>\n",
              "      <td>1000007</td>\n",
              "      <td>Seoul</td>\n",
              "      <td>from other city</td>\n",
              "      <td>True</td>\n",
              "      <td>SMR Newly Planted Churches Group</td>\n",
              "      <td>36</td>\n",
              "      <td>-</td>\n",
              "      <td>-</td>\n",
              "    </tr>\n",
              "    <tr>\n",
              "      <th>7</th>\n",
              "      <td>1000008</td>\n",
              "      <td>Seoul</td>\n",
              "      <td>Dongdaemun-gu</td>\n",
              "      <td>True</td>\n",
              "      <td>Dongan Church</td>\n",
              "      <td>17</td>\n",
              "      <td>37.592888</td>\n",
              "      <td>127.056766</td>\n",
              "    </tr>\n",
              "    <tr>\n",
              "      <th>8</th>\n",
              "      <td>1000009</td>\n",
              "      <td>Seoul</td>\n",
              "      <td>from other city</td>\n",
              "      <td>True</td>\n",
              "      <td>Coupang Logistics Center</td>\n",
              "      <td>25</td>\n",
              "      <td>-</td>\n",
              "      <td>-</td>\n",
              "    </tr>\n",
              "    <tr>\n",
              "      <th>9</th>\n",
              "      <td>1000010</td>\n",
              "      <td>Seoul</td>\n",
              "      <td>Gwanak-gu</td>\n",
              "      <td>True</td>\n",
              "      <td>Wangsung Church</td>\n",
              "      <td>30</td>\n",
              "      <td>37.481735</td>\n",
              "      <td>126.930121</td>\n",
              "    </tr>\n",
              "  </tbody>\n",
              "</table>\n",
              "</div>"
            ],
            "text/plain": [
              "    case_id province             city  ...  confirmed   latitude   longitude\n",
              "0   1000001    Seoul       Yongsan-gu  ...        139  37.538621  126.992652\n",
              "1   1000002    Seoul        Gwanak-gu  ...        119   37.48208  126.901384\n",
              "2   1000003    Seoul          Guro-gu  ...         95  37.508163  126.884387\n",
              "3   1000004    Seoul     Yangcheon-gu  ...         43  37.546061  126.874209\n",
              "4   1000005    Seoul        Dobong-gu  ...         43  37.679422  127.044374\n",
              "5   1000006    Seoul          Guro-gu  ...         41  37.481059  126.894343\n",
              "6   1000007    Seoul  from other city  ...         36          -           -\n",
              "7   1000008    Seoul    Dongdaemun-gu  ...         17  37.592888  127.056766\n",
              "8   1000009    Seoul  from other city  ...         25          -           -\n",
              "9   1000010    Seoul        Gwanak-gu  ...         30  37.481735  126.930121\n",
              "\n",
              "[10 rows x 8 columns]"
            ]
          },
          "metadata": {
            "tags": []
          },
          "execution_count": 14
        }
      ]
    },
    {
      "cell_type": "code",
      "metadata": {
        "colab": {
          "base_uri": "https://localhost:8080/"
        },
        "id": "_kRn-JbJ9K_L",
        "outputId": "c9630332-30c4-4774-f69a-cb5af056d6ba"
      },
      "source": [
        "#Change Column Names\n",
        "cases = cases.withColumnRenamed(\"infection_case\",\"infection_source\")\n",
        "cases.show(5)"
      ],
      "execution_count": 15,
      "outputs": [
        {
          "output_type": "stream",
          "text": [
            "+--------+--------+------------+-----+--------------------+---------+---------+----------+\n",
            "| case_id|province|        city|group|    infection_source|confirmed| latitude| longitude|\n",
            "+--------+--------+------------+-----+--------------------+---------+---------+----------+\n",
            "| 1000001|   Seoul|  Yongsan-gu| true|       Itaewon Clubs|      139|37.538621|126.992652|\n",
            "| 1000002|   Seoul|   Gwanak-gu| true|             Richway|      119| 37.48208|126.901384|\n",
            "| 1000003|   Seoul|     Guro-gu| true| Guro-gu Call Center|       95|37.508163|126.884387|\n",
            "| 1000004|   Seoul|Yangcheon-gu| true|Yangcheon Table T...|       43|37.546061|126.874209|\n",
            "| 1000005|   Seoul|   Dobong-gu| true|     Day Care Center|       43|37.679422|127.044374|\n",
            "+--------+--------+------------+-----+--------------------+---------+---------+----------+\n",
            "only showing top 5 rows\n",
            "\n"
          ],
          "name": "stdout"
        }
      ]
    },
    {
      "cell_type": "code",
      "metadata": {
        "colab": {
          "base_uri": "https://localhost:8080/"
        },
        "id": "xnS96s439ihJ",
        "outputId": "927b6d9d-e4a5-401d-8b0c-e4eef2dafba8"
      },
      "source": [
        "cases = cases.toDF(*['case_id', 'province', 'city', 'group', 'infection_case', 'confirmed',\n",
        "       'latitude', 'longitude'])\n",
        "cases.show(5)"
      ],
      "execution_count": 20,
      "outputs": [
        {
          "output_type": "stream",
          "text": [
            "+-------+--------+------------+-----+--------------------+---------+---------+----------+\n",
            "|case_id|province|        city|group|      infection_case|confirmed| latitude| longitude|\n",
            "+-------+--------+------------+-----+--------------------+---------+---------+----------+\n",
            "|1000001|   Seoul|  Yongsan-gu| true|       Itaewon Clubs|      139|37.538621|126.992652|\n",
            "|1000002|   Seoul|   Gwanak-gu| true|             Richway|      119| 37.48208|126.901384|\n",
            "|1000003|   Seoul|     Guro-gu| true| Guro-gu Call Center|       95|37.508163|126.884387|\n",
            "|1000004|   Seoul|Yangcheon-gu| true|Yangcheon Table T...|       43|37.546061|126.874209|\n",
            "|1000005|   Seoul|   Dobong-gu| true|     Day Care Center|       43|37.679422|127.044374|\n",
            "+-------+--------+------------+-----+--------------------+---------+---------+----------+\n",
            "only showing top 5 rows\n",
            "\n"
          ],
          "name": "stdout"
        }
      ]
    },
    {
      "cell_type": "code",
      "metadata": {
        "colab": {
          "base_uri": "https://localhost:8080/"
        },
        "id": "pmLPZymX9mom",
        "outputId": "3df221e2-4750-45a7-d158-1598d107fec5"
      },
      "source": [
        "# Select Columns\n",
        "\n",
        "cases = cases.select('province','city','infection_case','confirmed')\n",
        "cases.show()"
      ],
      "execution_count": 21,
      "outputs": [
        {
          "output_type": "stream",
          "text": [
            "+--------+---------------+--------------------+---------+\n",
            "|province|           city|      infection_case|confirmed|\n",
            "+--------+---------------+--------------------+---------+\n",
            "|   Seoul|     Yongsan-gu|       Itaewon Clubs|      139|\n",
            "|   Seoul|      Gwanak-gu|             Richway|      119|\n",
            "|   Seoul|        Guro-gu| Guro-gu Call Center|       95|\n",
            "|   Seoul|   Yangcheon-gu|Yangcheon Table T...|       43|\n",
            "|   Seoul|      Dobong-gu|     Day Care Center|       43|\n",
            "|   Seoul|        Guro-gu|Manmin Central Ch...|       41|\n",
            "|   Seoul|from other city|SMR Newly Planted...|       36|\n",
            "|   Seoul|  Dongdaemun-gu|       Dongan Church|       17|\n",
            "|   Seoul|from other city|Coupang Logistics...|       25|\n",
            "|   Seoul|      Gwanak-gu|     Wangsung Church|       30|\n",
            "|   Seoul|   Eunpyeong-gu|Eunpyeong St. Mar...|       14|\n",
            "|   Seoul|   Seongdong-gu|    Seongdong-gu APT|       13|\n",
            "|   Seoul|      Jongno-gu|Jongno Community ...|       10|\n",
            "|   Seoul|     Gangnam-gu|Samsung Medical C...|        7|\n",
            "|   Seoul|        Jung-gu|Jung-gu Fashion C...|        7|\n",
            "|   Seoul|   Seodaemun-gu|  Yeonana News Class|        5|\n",
            "|   Seoul|      Jongno-gu|Korea Campus Crus...|        7|\n",
            "|   Seoul|     Gangnam-gu|Gangnam Yeoksam-d...|        6|\n",
            "|   Seoul|from other city|Daejeon door-to-d...|        1|\n",
            "|   Seoul|   Geumcheon-gu|Geumcheon-gu rice...|        6|\n",
            "+--------+---------------+--------------------+---------+\n",
            "only showing top 20 rows\n",
            "\n"
          ],
          "name": "stdout"
        }
      ]
    },
    {
      "cell_type": "code",
      "metadata": {
        "colab": {
          "base_uri": "https://localhost:8080/"
        },
        "id": "CizOREkQ9rOz",
        "outputId": "e9629e7e-8342-4409-d0b8-3802083ea0e9"
      },
      "source": [
        "# Sort\n",
        "cases.sort(\"confirmed\").show()\n"
      ],
      "execution_count": 22,
      "outputs": [
        {
          "output_type": "stream",
          "text": [
            "+-----------------+---------------+--------------------+---------+\n",
            "|         province|           city|      infection_case|confirmed|\n",
            "+-----------------+---------------+--------------------+---------+\n",
            "|          Jeju-do|              -|contact with patient|        0|\n",
            "|       Gangwon-do|              -|contact with patient|        0|\n",
            "|            Seoul|     Gangseo-gu|SJ Investment Cal...|        0|\n",
            "|            Busan|from other city|Cheongdo Daenam H...|        1|\n",
            "|     Jeollabuk-do|from other city|  Shincheonji Church|        1|\n",
            "|            Seoul|from other city|Anyang Gunpo Past...|        1|\n",
            "|            Seoul|     Gangnam-gu|Gangnam Dongin Ch...|        1|\n",
            "|           Sejong|from other city|  Shincheonji Church|        1|\n",
            "|     Jeollanam-do|from other city|  Shincheonji Church|        1|\n",
            "|          Jeju-do|from other city|       Itaewon Clubs|        1|\n",
            "|            Seoul|from other city|Daejeon door-to-d...|        1|\n",
            "|            Seoul|              -|         Orange Life|        1|\n",
            "|           Sejong|              -|                 etc|        1|\n",
            "|          Gwangju|              -|                 etc|        1|\n",
            "|            Daegu|from other city|       Itaewon Clubs|        2|\n",
            "|            Daegu|from other city|Cheongdo Daenam H...|        2|\n",
            "|          Incheon|from other city|  Shincheonji Church|        2|\n",
            "|            Seoul|from other city|Uiwang Logistics ...|        2|\n",
            "|          Daejeon|from other city|  Shincheonji Church|        2|\n",
            "|Chungcheongbuk-do|from other city| Guro-gu Call Center|        2|\n",
            "+-----------------+---------------+--------------------+---------+\n",
            "only showing top 20 rows\n",
            "\n"
          ],
          "name": "stdout"
        }
      ]
    },
    {
      "cell_type": "code",
      "metadata": {
        "colab": {
          "base_uri": "https://localhost:8080/"
        },
        "id": "SXl0CYwq9wZR",
        "outputId": "27ee6c56-4fd9-44a2-82ee-9a698000d15e"
      },
      "source": [
        "# descending Sort\n",
        "from pyspark.sql import functions as F\n",
        "cases.sort(F.desc(\"confirmed\")).show()"
      ],
      "execution_count": 23,
      "outputs": [
        {
          "output_type": "stream",
          "text": [
            "+-----------------+---------------+--------------------+---------+\n",
            "|         province|           city|      infection_case|confirmed|\n",
            "+-----------------+---------------+--------------------+---------+\n",
            "|            Daegu|         Nam-gu|  Shincheonji Church|     4511|\n",
            "|            Daegu|              -|contact with patient|      917|\n",
            "|            Daegu|              -|                 etc|      747|\n",
            "| Gyeongsangbuk-do|from other city|  Shincheonji Church|      566|\n",
            "|      Gyeonggi-do|              -|     overseas inflow|      305|\n",
            "|            Seoul|              -|     overseas inflow|      298|\n",
            "|            Daegu|   Dalseong-gun|Second Mi-Ju Hosp...|      196|\n",
            "| Gyeongsangbuk-do|              -|contact with patient|      190|\n",
            "|            Seoul|              -|contact with patient|      162|\n",
            "|            Seoul|     Yongsan-gu|       Itaewon Clubs|      139|\n",
            "| Gyeongsangbuk-do|              -|                 etc|      133|\n",
            "|            Daegu|         Seo-gu|Hansarang Convale...|      124|\n",
            "|            Seoul|      Gwanak-gu|             Richway|      119|\n",
            "| Gyeongsangbuk-do|   Cheongdo-gun|Cheongdo Daenam H...|      119|\n",
            "|Chungcheongnam-do|     Cheonan-si|gym facility in C...|      103|\n",
            "|            Daegu|   Dalseong-gun|Daesil Convalesce...|      101|\n",
            "|            Seoul|              -|                 etc|      100|\n",
            "|            Seoul|        Guro-gu| Guro-gu Call Center|       95|\n",
            "|      Gyeonggi-do|              -|                 etc|       84|\n",
            "|          Incheon|              -|     overseas inflow|       68|\n",
            "+-----------------+---------------+--------------------+---------+\n",
            "only showing top 20 rows\n",
            "\n"
          ],
          "name": "stdout"
        }
      ]
    },
    {
      "cell_type": "code",
      "metadata": {
        "colab": {
          "base_uri": "https://localhost:8080/"
        },
        "id": "y1RkCGWF9ylx",
        "outputId": "9c1dc556-8ff4-4f6e-b20b-224e1cb5f6a4"
      },
      "source": [
        "# Cast\n",
        "from pyspark.sql.types import DoubleType, IntegerType, StringType\n",
        "cases = cases.withColumn('confirmed', F.col('confirmed').cast(IntegerType()))\n",
        "cases = cases.withColumn('city', F.col('city').cast(StringType()))\n",
        "cases.show(5)"
      ],
      "execution_count": 25,
      "outputs": [
        {
          "output_type": "stream",
          "text": [
            "+--------+------------+--------------------+---------+\n",
            "|province|        city|      infection_case|confirmed|\n",
            "+--------+------------+--------------------+---------+\n",
            "|   Seoul|  Yongsan-gu|       Itaewon Clubs|      139|\n",
            "|   Seoul|   Gwanak-gu|             Richway|      119|\n",
            "|   Seoul|     Guro-gu| Guro-gu Call Center|       95|\n",
            "|   Seoul|Yangcheon-gu|Yangcheon Table T...|       43|\n",
            "|   Seoul|   Dobong-gu|     Day Care Center|       43|\n",
            "+--------+------------+--------------------+---------+\n",
            "only showing top 5 rows\n",
            "\n"
          ],
          "name": "stdout"
        }
      ]
    },
    {
      "cell_type": "code",
      "metadata": {
        "colab": {
          "base_uri": "https://localhost:8080/"
        },
        "id": "55JpBBSL966k",
        "outputId": "b60629fe-b45c-4d9e-b739-3d3af4f345b6"
      },
      "source": [
        "# Filter\n",
        "cases.filter((cases.confirmed>10) & (cases.province=='Daegu')).show()\n"
      ],
      "execution_count": 26,
      "outputs": [
        {
          "output_type": "stream",
          "text": [
            "+--------+------------+--------------------+---------+\n",
            "|province|        city|      infection_case|confirmed|\n",
            "+--------+------------+--------------------+---------+\n",
            "|   Daegu|      Nam-gu|  Shincheonji Church|     4511|\n",
            "|   Daegu|Dalseong-gun|Second Mi-Ju Hosp...|      196|\n",
            "|   Daegu|      Seo-gu|Hansarang Convale...|      124|\n",
            "|   Daegu|Dalseong-gun|Daesil Convalesce...|      101|\n",
            "|   Daegu|     Dong-gu|     Fatima Hospital|       39|\n",
            "|   Daegu|           -|     overseas inflow|       41|\n",
            "|   Daegu|           -|contact with patient|      917|\n",
            "|   Daegu|           -|                 etc|      747|\n",
            "+--------+------------+--------------------+---------+\n",
            "\n"
          ],
          "name": "stdout"
        }
      ]
    },
    {
      "cell_type": "code",
      "metadata": {
        "colab": {
          "base_uri": "https://localhost:8080/"
        },
        "id": "GHZIZGXu9-mZ",
        "outputId": "6a161198-2727-4286-fb22-ad192366cb9f"
      },
      "source": [
        "# GroupBy\n",
        "from pyspark.sql import functions as F\n",
        "cases.groupBy([\"province\",\"city\"]).agg(F.sum(\"confirmed\") ,F.max(\"confirmed\")).show()"
      ],
      "execution_count": 27,
      "outputs": [
        {
          "output_type": "stream",
          "text": [
            "+----------------+---------------+--------------+--------------+\n",
            "|        province|           city|sum(confirmed)|max(confirmed)|\n",
            "+----------------+---------------+--------------+--------------+\n",
            "|Gyeongsangnam-do|       Jinju-si|             9|             9|\n",
            "|           Seoul|        Guro-gu|           139|            95|\n",
            "|           Seoul|     Gangnam-gu|            18|             7|\n",
            "|         Daejeon|              -|           100|            55|\n",
            "|    Jeollabuk-do|from other city|             6|             3|\n",
            "|Gyeongsangnam-do|Changnyeong-gun|             7|             7|\n",
            "|           Seoul|              -|           561|           298|\n",
            "|         Jeju-do|from other city|             1|             1|\n",
            "|Gyeongsangbuk-do|              -|           345|           190|\n",
            "|Gyeongsangnam-do|   Geochang-gun|            18|            10|\n",
            "|Gyeongsangbuk-do|        Gumi-si|            10|            10|\n",
            "|         Incheon|from other city|           117|            53|\n",
            "|           Busan|              -|            85|            36|\n",
            "|           Daegu|         Seo-gu|           124|           124|\n",
            "|           Busan|     Suyeong-gu|             5|             5|\n",
            "|     Gyeonggi-do|   Uijeongbu-si|            50|            50|\n",
            "|           Seoul|     Yongsan-gu|           139|           139|\n",
            "|           Daegu|              -|          1705|           917|\n",
            "|           Seoul|   Seodaemun-gu|             5|             5|\n",
            "|     Gyeonggi-do|    Seongnam-si|            94|            67|\n",
            "+----------------+---------------+--------------+--------------+\n",
            "only showing top 20 rows\n",
            "\n"
          ],
          "name": "stdout"
        }
      ]
    },
    {
      "cell_type": "code",
      "metadata": {
        "colab": {
          "base_uri": "https://localhost:8080/"
        },
        "id": "abm73Ss9-Fg6",
        "outputId": "ca3d3a5e-5784-4519-8476-33785b9f4189"
      },
      "source": [
        "#alias column names\n",
        "\n",
        "cases.groupBy([\"province\",\"city\"]).agg(\n",
        "    F.sum(\"confirmed\").alias(\"TotalConfirmed\"),\\\n",
        "    F.max(\"confirmed\").alias(\"MaxFromOneConfirmedCase\")\\\n",
        "    ).show()"
      ],
      "execution_count": 28,
      "outputs": [
        {
          "output_type": "stream",
          "text": [
            "+----------------+---------------+--------------+-----------------------+\n",
            "|        province|           city|TotalConfirmed|MaxFromOneConfirmedCase|\n",
            "+----------------+---------------+--------------+-----------------------+\n",
            "|Gyeongsangnam-do|       Jinju-si|             9|                      9|\n",
            "|           Seoul|        Guro-gu|           139|                     95|\n",
            "|           Seoul|     Gangnam-gu|            18|                      7|\n",
            "|         Daejeon|              -|           100|                     55|\n",
            "|    Jeollabuk-do|from other city|             6|                      3|\n",
            "|Gyeongsangnam-do|Changnyeong-gun|             7|                      7|\n",
            "|           Seoul|              -|           561|                    298|\n",
            "|         Jeju-do|from other city|             1|                      1|\n",
            "|Gyeongsangbuk-do|              -|           345|                    190|\n",
            "|Gyeongsangnam-do|   Geochang-gun|            18|                     10|\n",
            "|Gyeongsangbuk-do|        Gumi-si|            10|                     10|\n",
            "|         Incheon|from other city|           117|                     53|\n",
            "|           Busan|              -|            85|                     36|\n",
            "|           Daegu|         Seo-gu|           124|                    124|\n",
            "|           Busan|     Suyeong-gu|             5|                      5|\n",
            "|     Gyeonggi-do|   Uijeongbu-si|            50|                     50|\n",
            "|           Seoul|     Yongsan-gu|           139|                    139|\n",
            "|           Daegu|              -|          1705|                    917|\n",
            "|           Seoul|   Seodaemun-gu|             5|                      5|\n",
            "|     Gyeonggi-do|    Seongnam-si|            94|                     67|\n",
            "+----------------+---------------+--------------+-----------------------+\n",
            "only showing top 20 rows\n",
            "\n"
          ],
          "name": "stdout"
        }
      ]
    },
    {
      "cell_type": "code",
      "metadata": {
        "colab": {
          "base_uri": "https://localhost:8080/",
          "height": 414
        },
        "id": "LQZkDUta-Jjk",
        "outputId": "899b3c87-c7e9-4e3e-ca82-61197c6a2c50"
      },
      "source": [
        "# Joins\n",
        "regions = spark.read.load(\"Region.csv\",format=\"csv\", sep=\",\", inferSchema=\"true\", header=\"true\")\n",
        "regions.limit(10).toPandas()"
      ],
      "execution_count": 29,
      "outputs": [
        {
          "output_type": "execute_result",
          "data": {
            "text/html": [
              "<div>\n",
              "<style scoped>\n",
              "    .dataframe tbody tr th:only-of-type {\n",
              "        vertical-align: middle;\n",
              "    }\n",
              "\n",
              "    .dataframe tbody tr th {\n",
              "        vertical-align: top;\n",
              "    }\n",
              "\n",
              "    .dataframe thead th {\n",
              "        text-align: right;\n",
              "    }\n",
              "</style>\n",
              "<table border=\"1\" class=\"dataframe\">\n",
              "  <thead>\n",
              "    <tr style=\"text-align: right;\">\n",
              "      <th></th>\n",
              "      <th>code</th>\n",
              "      <th>province</th>\n",
              "      <th>city</th>\n",
              "      <th>latitude</th>\n",
              "      <th>longitude</th>\n",
              "      <th>elementary_school_count</th>\n",
              "      <th>kindergarten_count</th>\n",
              "      <th>university_count</th>\n",
              "      <th>academy_ratio</th>\n",
              "      <th>elderly_population_ratio</th>\n",
              "      <th>elderly_alone_ratio</th>\n",
              "      <th>nursing_home_count</th>\n",
              "    </tr>\n",
              "  </thead>\n",
              "  <tbody>\n",
              "    <tr>\n",
              "      <th>0</th>\n",
              "      <td>10000</td>\n",
              "      <td>Seoul</td>\n",
              "      <td>Seoul</td>\n",
              "      <td>37.566953</td>\n",
              "      <td>126.977977</td>\n",
              "      <td>607</td>\n",
              "      <td>830</td>\n",
              "      <td>48</td>\n",
              "      <td>1.44</td>\n",
              "      <td>15.38</td>\n",
              "      <td>5.8</td>\n",
              "      <td>22739</td>\n",
              "    </tr>\n",
              "    <tr>\n",
              "      <th>1</th>\n",
              "      <td>10010</td>\n",
              "      <td>Seoul</td>\n",
              "      <td>Gangnam-gu</td>\n",
              "      <td>37.518421</td>\n",
              "      <td>127.047222</td>\n",
              "      <td>33</td>\n",
              "      <td>38</td>\n",
              "      <td>0</td>\n",
              "      <td>4.18</td>\n",
              "      <td>13.17</td>\n",
              "      <td>4.3</td>\n",
              "      <td>3088</td>\n",
              "    </tr>\n",
              "    <tr>\n",
              "      <th>2</th>\n",
              "      <td>10020</td>\n",
              "      <td>Seoul</td>\n",
              "      <td>Gangdong-gu</td>\n",
              "      <td>37.530492</td>\n",
              "      <td>127.123837</td>\n",
              "      <td>27</td>\n",
              "      <td>32</td>\n",
              "      <td>0</td>\n",
              "      <td>1.54</td>\n",
              "      <td>14.55</td>\n",
              "      <td>5.4</td>\n",
              "      <td>1023</td>\n",
              "    </tr>\n",
              "    <tr>\n",
              "      <th>3</th>\n",
              "      <td>10030</td>\n",
              "      <td>Seoul</td>\n",
              "      <td>Gangbuk-gu</td>\n",
              "      <td>37.639938</td>\n",
              "      <td>127.025508</td>\n",
              "      <td>14</td>\n",
              "      <td>21</td>\n",
              "      <td>0</td>\n",
              "      <td>0.67</td>\n",
              "      <td>19.49</td>\n",
              "      <td>8.5</td>\n",
              "      <td>628</td>\n",
              "    </tr>\n",
              "    <tr>\n",
              "      <th>4</th>\n",
              "      <td>10040</td>\n",
              "      <td>Seoul</td>\n",
              "      <td>Gangseo-gu</td>\n",
              "      <td>37.551166</td>\n",
              "      <td>126.849506</td>\n",
              "      <td>36</td>\n",
              "      <td>56</td>\n",
              "      <td>1</td>\n",
              "      <td>1.17</td>\n",
              "      <td>14.39</td>\n",
              "      <td>5.7</td>\n",
              "      <td>1080</td>\n",
              "    </tr>\n",
              "    <tr>\n",
              "      <th>5</th>\n",
              "      <td>10050</td>\n",
              "      <td>Seoul</td>\n",
              "      <td>Gwanak-gu</td>\n",
              "      <td>37.478290</td>\n",
              "      <td>126.951502</td>\n",
              "      <td>22</td>\n",
              "      <td>33</td>\n",
              "      <td>1</td>\n",
              "      <td>0.89</td>\n",
              "      <td>15.12</td>\n",
              "      <td>4.9</td>\n",
              "      <td>909</td>\n",
              "    </tr>\n",
              "    <tr>\n",
              "      <th>6</th>\n",
              "      <td>10060</td>\n",
              "      <td>Seoul</td>\n",
              "      <td>Gwangjin-gu</td>\n",
              "      <td>37.538712</td>\n",
              "      <td>127.082366</td>\n",
              "      <td>22</td>\n",
              "      <td>33</td>\n",
              "      <td>3</td>\n",
              "      <td>1.16</td>\n",
              "      <td>13.75</td>\n",
              "      <td>4.8</td>\n",
              "      <td>723</td>\n",
              "    </tr>\n",
              "    <tr>\n",
              "      <th>7</th>\n",
              "      <td>10070</td>\n",
              "      <td>Seoul</td>\n",
              "      <td>Guro-gu</td>\n",
              "      <td>37.495632</td>\n",
              "      <td>126.887650</td>\n",
              "      <td>26</td>\n",
              "      <td>34</td>\n",
              "      <td>3</td>\n",
              "      <td>1.00</td>\n",
              "      <td>16.21</td>\n",
              "      <td>5.7</td>\n",
              "      <td>741</td>\n",
              "    </tr>\n",
              "    <tr>\n",
              "      <th>8</th>\n",
              "      <td>10080</td>\n",
              "      <td>Seoul</td>\n",
              "      <td>Geumcheon-gu</td>\n",
              "      <td>37.456852</td>\n",
              "      <td>126.895229</td>\n",
              "      <td>18</td>\n",
              "      <td>19</td>\n",
              "      <td>0</td>\n",
              "      <td>0.96</td>\n",
              "      <td>16.15</td>\n",
              "      <td>6.7</td>\n",
              "      <td>475</td>\n",
              "    </tr>\n",
              "    <tr>\n",
              "      <th>9</th>\n",
              "      <td>10090</td>\n",
              "      <td>Seoul</td>\n",
              "      <td>Nowon-gu</td>\n",
              "      <td>37.654259</td>\n",
              "      <td>127.056294</td>\n",
              "      <td>42</td>\n",
              "      <td>66</td>\n",
              "      <td>6</td>\n",
              "      <td>1.39</td>\n",
              "      <td>15.40</td>\n",
              "      <td>7.4</td>\n",
              "      <td>952</td>\n",
              "    </tr>\n",
              "  </tbody>\n",
              "</table>\n",
              "</div>"
            ],
            "text/plain": [
              "    code province  ... elderly_alone_ratio  nursing_home_count\n",
              "0  10000    Seoul  ...                 5.8               22739\n",
              "1  10010    Seoul  ...                 4.3                3088\n",
              "2  10020    Seoul  ...                 5.4                1023\n",
              "3  10030    Seoul  ...                 8.5                 628\n",
              "4  10040    Seoul  ...                 5.7                1080\n",
              "5  10050    Seoul  ...                 4.9                 909\n",
              "6  10060    Seoul  ...                 4.8                 723\n",
              "7  10070    Seoul  ...                 5.7                 741\n",
              "8  10080    Seoul  ...                 6.7                 475\n",
              "9  10090    Seoul  ...                 7.4                 952\n",
              "\n",
              "[10 rows x 12 columns]"
            ]
          },
          "metadata": {
            "tags": []
          },
          "execution_count": 29
        }
      ]
    },
    {
      "cell_type": "code",
      "metadata": {
        "colab": {
          "base_uri": "https://localhost:8080/",
          "height": 498
        },
        "id": "8PxqcCHx-ezL",
        "outputId": "58912f38-14e2-440a-8981-5d90781e1dff"
      },
      "source": [
        "cases = cases.join(regions, ['province','city'],how='left')\n",
        "cases.limit(10).toPandas()"
      ],
      "execution_count": 30,
      "outputs": [
        {
          "output_type": "execute_result",
          "data": {
            "text/html": [
              "<div>\n",
              "<style scoped>\n",
              "    .dataframe tbody tr th:only-of-type {\n",
              "        vertical-align: middle;\n",
              "    }\n",
              "\n",
              "    .dataframe tbody tr th {\n",
              "        vertical-align: top;\n",
              "    }\n",
              "\n",
              "    .dataframe thead th {\n",
              "        text-align: right;\n",
              "    }\n",
              "</style>\n",
              "<table border=\"1\" class=\"dataframe\">\n",
              "  <thead>\n",
              "    <tr style=\"text-align: right;\">\n",
              "      <th></th>\n",
              "      <th>province</th>\n",
              "      <th>city</th>\n",
              "      <th>infection_case</th>\n",
              "      <th>confirmed</th>\n",
              "      <th>code</th>\n",
              "      <th>latitude</th>\n",
              "      <th>longitude</th>\n",
              "      <th>elementary_school_count</th>\n",
              "      <th>kindergarten_count</th>\n",
              "      <th>university_count</th>\n",
              "      <th>academy_ratio</th>\n",
              "      <th>elderly_population_ratio</th>\n",
              "      <th>elderly_alone_ratio</th>\n",
              "      <th>nursing_home_count</th>\n",
              "    </tr>\n",
              "  </thead>\n",
              "  <tbody>\n",
              "    <tr>\n",
              "      <th>0</th>\n",
              "      <td>Seoul</td>\n",
              "      <td>Yongsan-gu</td>\n",
              "      <td>Itaewon Clubs</td>\n",
              "      <td>139</td>\n",
              "      <td>10210.0</td>\n",
              "      <td>37.532768</td>\n",
              "      <td>126.990021</td>\n",
              "      <td>15.0</td>\n",
              "      <td>13.0</td>\n",
              "      <td>1.0</td>\n",
              "      <td>0.68</td>\n",
              "      <td>16.87</td>\n",
              "      <td>6.5</td>\n",
              "      <td>435.0</td>\n",
              "    </tr>\n",
              "    <tr>\n",
              "      <th>1</th>\n",
              "      <td>Seoul</td>\n",
              "      <td>Gwanak-gu</td>\n",
              "      <td>Richway</td>\n",
              "      <td>119</td>\n",
              "      <td>10050.0</td>\n",
              "      <td>37.478290</td>\n",
              "      <td>126.951502</td>\n",
              "      <td>22.0</td>\n",
              "      <td>33.0</td>\n",
              "      <td>1.0</td>\n",
              "      <td>0.89</td>\n",
              "      <td>15.12</td>\n",
              "      <td>4.9</td>\n",
              "      <td>909.0</td>\n",
              "    </tr>\n",
              "    <tr>\n",
              "      <th>2</th>\n",
              "      <td>Seoul</td>\n",
              "      <td>Guro-gu</td>\n",
              "      <td>Guro-gu Call Center</td>\n",
              "      <td>95</td>\n",
              "      <td>10070.0</td>\n",
              "      <td>37.495632</td>\n",
              "      <td>126.887650</td>\n",
              "      <td>26.0</td>\n",
              "      <td>34.0</td>\n",
              "      <td>3.0</td>\n",
              "      <td>1.00</td>\n",
              "      <td>16.21</td>\n",
              "      <td>5.7</td>\n",
              "      <td>741.0</td>\n",
              "    </tr>\n",
              "    <tr>\n",
              "      <th>3</th>\n",
              "      <td>Seoul</td>\n",
              "      <td>Yangcheon-gu</td>\n",
              "      <td>Yangcheon Table Tennis Club</td>\n",
              "      <td>43</td>\n",
              "      <td>10190.0</td>\n",
              "      <td>37.517189</td>\n",
              "      <td>126.866618</td>\n",
              "      <td>30.0</td>\n",
              "      <td>43.0</td>\n",
              "      <td>0.0</td>\n",
              "      <td>2.26</td>\n",
              "      <td>13.55</td>\n",
              "      <td>5.5</td>\n",
              "      <td>816.0</td>\n",
              "    </tr>\n",
              "    <tr>\n",
              "      <th>4</th>\n",
              "      <td>Seoul</td>\n",
              "      <td>Dobong-gu</td>\n",
              "      <td>Day Care Center</td>\n",
              "      <td>43</td>\n",
              "      <td>10100.0</td>\n",
              "      <td>37.668952</td>\n",
              "      <td>127.047082</td>\n",
              "      <td>23.0</td>\n",
              "      <td>26.0</td>\n",
              "      <td>1.0</td>\n",
              "      <td>0.95</td>\n",
              "      <td>17.89</td>\n",
              "      <td>7.2</td>\n",
              "      <td>485.0</td>\n",
              "    </tr>\n",
              "    <tr>\n",
              "      <th>5</th>\n",
              "      <td>Seoul</td>\n",
              "      <td>Guro-gu</td>\n",
              "      <td>Manmin Central Church</td>\n",
              "      <td>41</td>\n",
              "      <td>10070.0</td>\n",
              "      <td>37.495632</td>\n",
              "      <td>126.887650</td>\n",
              "      <td>26.0</td>\n",
              "      <td>34.0</td>\n",
              "      <td>3.0</td>\n",
              "      <td>1.00</td>\n",
              "      <td>16.21</td>\n",
              "      <td>5.7</td>\n",
              "      <td>741.0</td>\n",
              "    </tr>\n",
              "    <tr>\n",
              "      <th>6</th>\n",
              "      <td>Seoul</td>\n",
              "      <td>from other city</td>\n",
              "      <td>SMR Newly Planted Churches Group</td>\n",
              "      <td>36</td>\n",
              "      <td>NaN</td>\n",
              "      <td>NaN</td>\n",
              "      <td>NaN</td>\n",
              "      <td>NaN</td>\n",
              "      <td>NaN</td>\n",
              "      <td>NaN</td>\n",
              "      <td>NaN</td>\n",
              "      <td>NaN</td>\n",
              "      <td>NaN</td>\n",
              "      <td>NaN</td>\n",
              "    </tr>\n",
              "    <tr>\n",
              "      <th>7</th>\n",
              "      <td>Seoul</td>\n",
              "      <td>Dongdaemun-gu</td>\n",
              "      <td>Dongan Church</td>\n",
              "      <td>17</td>\n",
              "      <td>10110.0</td>\n",
              "      <td>37.574552</td>\n",
              "      <td>127.039721</td>\n",
              "      <td>21.0</td>\n",
              "      <td>31.0</td>\n",
              "      <td>4.0</td>\n",
              "      <td>1.06</td>\n",
              "      <td>17.26</td>\n",
              "      <td>6.7</td>\n",
              "      <td>832.0</td>\n",
              "    </tr>\n",
              "    <tr>\n",
              "      <th>8</th>\n",
              "      <td>Seoul</td>\n",
              "      <td>from other city</td>\n",
              "      <td>Coupang Logistics Center</td>\n",
              "      <td>25</td>\n",
              "      <td>NaN</td>\n",
              "      <td>NaN</td>\n",
              "      <td>NaN</td>\n",
              "      <td>NaN</td>\n",
              "      <td>NaN</td>\n",
              "      <td>NaN</td>\n",
              "      <td>NaN</td>\n",
              "      <td>NaN</td>\n",
              "      <td>NaN</td>\n",
              "      <td>NaN</td>\n",
              "    </tr>\n",
              "    <tr>\n",
              "      <th>9</th>\n",
              "      <td>Seoul</td>\n",
              "      <td>Gwanak-gu</td>\n",
              "      <td>Wangsung Church</td>\n",
              "      <td>30</td>\n",
              "      <td>10050.0</td>\n",
              "      <td>37.478290</td>\n",
              "      <td>126.951502</td>\n",
              "      <td>22.0</td>\n",
              "      <td>33.0</td>\n",
              "      <td>1.0</td>\n",
              "      <td>0.89</td>\n",
              "      <td>15.12</td>\n",
              "      <td>4.9</td>\n",
              "      <td>909.0</td>\n",
              "    </tr>\n",
              "  </tbody>\n",
              "</table>\n",
              "</div>"
            ],
            "text/plain": [
              "  province             city  ... elderly_alone_ratio  nursing_home_count\n",
              "0    Seoul       Yongsan-gu  ...                 6.5               435.0\n",
              "1    Seoul        Gwanak-gu  ...                 4.9               909.0\n",
              "2    Seoul          Guro-gu  ...                 5.7               741.0\n",
              "3    Seoul     Yangcheon-gu  ...                 5.5               816.0\n",
              "4    Seoul        Dobong-gu  ...                 7.2               485.0\n",
              "5    Seoul          Guro-gu  ...                 5.7               741.0\n",
              "6    Seoul  from other city  ...                 NaN                 NaN\n",
              "7    Seoul    Dongdaemun-gu  ...                 6.7               832.0\n",
              "8    Seoul  from other city  ...                 NaN                 NaN\n",
              "9    Seoul        Gwanak-gu  ...                 4.9               909.0\n",
              "\n",
              "[10 rows x 14 columns]"
            ]
          },
          "metadata": {
            "tags": []
          },
          "execution_count": 30
        }
      ]
    },
    {
      "cell_type": "code",
      "metadata": {
        "colab": {
          "base_uri": "https://localhost:8080/"
        },
        "id": "E69VPQiB-2IS",
        "outputId": "426a96f0-ce83-4dae-97b3-0d1762adbe86"
      },
      "source": [
        "# Broadcast/Map Side Joins\n",
        "from pyspark.sql.functions import broadcast\n",
        "cases = cases.join(broadcast(regions), ['province','city'],how='left')\n",
        "cases.show(5)"
      ],
      "execution_count": 32,
      "outputs": [
        {
          "output_type": "stream",
          "text": [
            "+--------+------------+--------------------+---------+-----+---------+----------+-----------------------+------------------+----------------+-------------+------------------------+-------------------+------------------+-----+---------+----------+-----------------------+------------------+----------------+-------------+------------------------+-------------------+------------------+-----+---------+----------+-----------------------+------------------+----------------+-------------+------------------------+-------------------+------------------+\n",
            "|province|        city|      infection_case|confirmed| code| latitude| longitude|elementary_school_count|kindergarten_count|university_count|academy_ratio|elderly_population_ratio|elderly_alone_ratio|nursing_home_count| code| latitude| longitude|elementary_school_count|kindergarten_count|university_count|academy_ratio|elderly_population_ratio|elderly_alone_ratio|nursing_home_count| code| latitude| longitude|elementary_school_count|kindergarten_count|university_count|academy_ratio|elderly_population_ratio|elderly_alone_ratio|nursing_home_count|\n",
            "+--------+------------+--------------------+---------+-----+---------+----------+-----------------------+------------------+----------------+-------------+------------------------+-------------------+------------------+-----+---------+----------+-----------------------+------------------+----------------+-------------+------------------------+-------------------+------------------+-----+---------+----------+-----------------------+------------------+----------------+-------------+------------------------+-------------------+------------------+\n",
            "|   Seoul|  Yongsan-gu|       Itaewon Clubs|      139|10210|37.532768|126.990021|                     15|                13|               1|         0.68|                   16.87|                6.5|               435|10210|37.532768|126.990021|                     15|                13|               1|         0.68|                   16.87|                6.5|               435|10210|37.532768|126.990021|                     15|                13|               1|         0.68|                   16.87|                6.5|               435|\n",
            "|   Seoul|   Gwanak-gu|             Richway|      119|10050| 37.47829|126.951502|                     22|                33|               1|         0.89|                   15.12|                4.9|               909|10050| 37.47829|126.951502|                     22|                33|               1|         0.89|                   15.12|                4.9|               909|10050| 37.47829|126.951502|                     22|                33|               1|         0.89|                   15.12|                4.9|               909|\n",
            "|   Seoul|     Guro-gu| Guro-gu Call Center|       95|10070|37.495632| 126.88765|                     26|                34|               3|          1.0|                   16.21|                5.7|               741|10070|37.495632| 126.88765|                     26|                34|               3|          1.0|                   16.21|                5.7|               741|10070|37.495632| 126.88765|                     26|                34|               3|          1.0|                   16.21|                5.7|               741|\n",
            "|   Seoul|Yangcheon-gu|Yangcheon Table T...|       43|10190|37.517189|126.866618|                     30|                43|               0|         2.26|                   13.55|                5.5|               816|10190|37.517189|126.866618|                     30|                43|               0|         2.26|                   13.55|                5.5|               816|10190|37.517189|126.866618|                     30|                43|               0|         2.26|                   13.55|                5.5|               816|\n",
            "|   Seoul|   Dobong-gu|     Day Care Center|       43|10100|37.668952|127.047082|                     23|                26|               1|         0.95|                   17.89|                7.2|               485|10100|37.668952|127.047082|                     23|                26|               1|         0.95|                   17.89|                7.2|               485|10100|37.668952|127.047082|                     23|                26|               1|         0.95|                   17.89|                7.2|               485|\n",
            "+--------+------------+--------------------+---------+-----+---------+----------+-----------------------+------------------+----------------+-------------+------------------------+-------------------+------------------+-----+---------+----------+-----------------------+------------------+----------------+-------------+------------------------+-------------------+------------------+-----+---------+----------+-----------------------+------------------+----------------+-------------+------------------------+-------------------+------------------+\n",
            "only showing top 5 rows\n",
            "\n"
          ],
          "name": "stdout"
        }
      ]
    },
    {
      "cell_type": "code",
      "metadata": {
        "id": "RE-_ICsP_H0T"
      },
      "source": [
        "# Use SQL with DataFrames\n",
        "from pyspark.sql import SQLContext\n",
        "sqlContext = SQLContext(sc)\n",
        "cases.registerTempTable('cases_table')\n",
        "newDF = sqlContext.sql('select * from cases_table where confirmed>100')\n"
      ],
      "execution_count": 36,
      "outputs": []
    },
    {
      "cell_type": "code",
      "metadata": {
        "colab": {
          "base_uri": "https://localhost:8080/"
        },
        "id": "1kafPbsJ_YxZ",
        "outputId": "f6290f26-c982-4073-9a7c-f18ee710e71a"
      },
      "source": [
        "newDF.show()"
      ],
      "execution_count": 37,
      "outputs": [
        {
          "output_type": "stream",
          "text": [
            "+-----------------+---------------+--------------------+---------+-----+---------+----------+-----------------------+------------------+----------------+-------------+------------------------+-------------------+------------------+-----+---------+----------+-----------------------+------------------+----------------+-------------+------------------------+-------------------+------------------+-----+---------+----------+-----------------------+------------------+----------------+-------------+------------------------+-------------------+------------------+\n",
            "|         province|           city|      infection_case|confirmed| code| latitude| longitude|elementary_school_count|kindergarten_count|university_count|academy_ratio|elderly_population_ratio|elderly_alone_ratio|nursing_home_count| code| latitude| longitude|elementary_school_count|kindergarten_count|university_count|academy_ratio|elderly_population_ratio|elderly_alone_ratio|nursing_home_count| code| latitude| longitude|elementary_school_count|kindergarten_count|university_count|academy_ratio|elderly_population_ratio|elderly_alone_ratio|nursing_home_count|\n",
            "+-----------------+---------------+--------------------+---------+-----+---------+----------+-----------------------+------------------+----------------+-------------+------------------------+-------------------+------------------+-----+---------+----------+-----------------------+------------------+----------------+-------------+------------------------+-------------------+------------------+-----+---------+----------+-----------------------+------------------+----------------+-------------+------------------------+-------------------+------------------+\n",
            "|            Seoul|     Yongsan-gu|       Itaewon Clubs|      139|10210|37.532768|126.990021|                     15|                13|               1|         0.68|                   16.87|                6.5|               435|10210|37.532768|126.990021|                     15|                13|               1|         0.68|                   16.87|                6.5|               435|10210|37.532768|126.990021|                     15|                13|               1|         0.68|                   16.87|                6.5|               435|\n",
            "|            Seoul|      Gwanak-gu|             Richway|      119|10050| 37.47829|126.951502|                     22|                33|               1|         0.89|                   15.12|                4.9|               909|10050| 37.47829|126.951502|                     22|                33|               1|         0.89|                   15.12|                4.9|               909|10050| 37.47829|126.951502|                     22|                33|               1|         0.89|                   15.12|                4.9|               909|\n",
            "|            Seoul|              -|     overseas inflow|      298| null|     null|      null|                   null|              null|            null|         null|                    null|               null|              null| null|     null|      null|                   null|              null|            null|         null|                    null|               null|              null| null|     null|      null|                   null|              null|            null|         null|                    null|               null|              null|\n",
            "|            Seoul|              -|contact with patient|      162| null|     null|      null|                   null|              null|            null|         null|                    null|               null|              null| null|     null|      null|                   null|              null|            null|         null|                    null|               null|              null| null|     null|      null|                   null|              null|            null|         null|                    null|               null|              null|\n",
            "|            Daegu|         Nam-gu|  Shincheonji Church|     4511|12010|  35.8463|128.597723|                     11|                15|               2|         0.85|                   22.49|               10.4|               345|12010|  35.8463|128.597723|                     11|                15|               2|         0.85|                   22.49|               10.4|               345|12010|  35.8463|128.597723|                     11|                15|               2|         0.85|                   22.49|               10.4|               345|\n",
            "|            Daegu|   Dalseong-gun|Second Mi-Ju Hosp...|      196|12030| 35.77475|128.431314|                     32|                47|               1|         1.51|                   12.11|                5.4|               361|12030| 35.77475|128.431314|                     32|                47|               1|         1.51|                   12.11|                5.4|               361|12030| 35.77475|128.431314|                     32|                47|               1|         1.51|                   12.11|                5.4|               361|\n",
            "|            Daegu|         Seo-gu|Hansarang Convale...|      124|12060|35.871993|128.559182|                     17|                23|               0|         0.83|                   21.29|               10.1|               374|12060|35.871993|128.559182|                     17|                23|               0|         0.83|                   21.29|               10.1|               374|12060|35.871993|128.559182|                     17|                23|               0|         0.83|                   21.29|               10.1|               374|\n",
            "|            Daegu|   Dalseong-gun|Daesil Convalesce...|      101|12030| 35.77475|128.431314|                     32|                47|               1|         1.51|                   12.11|                5.4|               361|12030| 35.77475|128.431314|                     32|                47|               1|         1.51|                   12.11|                5.4|               361|12030| 35.77475|128.431314|                     32|                47|               1|         1.51|                   12.11|                5.4|               361|\n",
            "|            Daegu|              -|contact with patient|      917| null|     null|      null|                   null|              null|            null|         null|                    null|               null|              null| null|     null|      null|                   null|              null|            null|         null|                    null|               null|              null| null|     null|      null|                   null|              null|            null|         null|                    null|               null|              null|\n",
            "|            Daegu|              -|                 etc|      747| null|     null|      null|                   null|              null|            null|         null|                    null|               null|              null| null|     null|      null|                   null|              null|            null|         null|                    null|               null|              null| null|     null|      null|                   null|              null|            null|         null|                    null|               null|              null|\n",
            "|      Gyeonggi-do|              -|     overseas inflow|      305| null|     null|      null|                   null|              null|            null|         null|                    null|               null|              null| null|     null|      null|                   null|              null|            null|         null|                    null|               null|              null| null|     null|      null|                   null|              null|            null|         null|                    null|               null|              null|\n",
            "|Chungcheongnam-do|     Cheonan-si|gym facility in C...|      103|41120| 36.81498|127.113868|                     75|               112|               6|         1.91|                   10.42|                4.5|              1069|41120| 36.81498|127.113868|                     75|               112|               6|         1.91|                   10.42|                4.5|              1069|41120| 36.81498|127.113868|                     75|               112|               6|         1.91|                   10.42|                4.5|              1069|\n",
            "| Gyeongsangbuk-do|from other city|  Shincheonji Church|      566| null|     null|      null|                   null|              null|            null|         null|                    null|               null|              null| null|     null|      null|                   null|              null|            null|         null|                    null|               null|              null| null|     null|      null|                   null|              null|            null|         null|                    null|               null|              null|\n",
            "| Gyeongsangbuk-do|   Cheongdo-gun|Cheongdo Daenam H...|      119|60200|35.647361|128.734382|                     11|                14|               0|         0.63|                   36.55|               21.0|                85|60200|35.647361|128.734382|                     11|                14|               0|         0.63|                   36.55|               21.0|                85|60200|35.647361|128.734382|                     11|                14|               0|         0.63|                   36.55|               21.0|                85|\n",
            "| Gyeongsangbuk-do|              -|contact with patient|      190| null|     null|      null|                   null|              null|            null|         null|                    null|               null|              null| null|     null|      null|                   null|              null|            null|         null|                    null|               null|              null| null|     null|      null|                   null|              null|            null|         null|                    null|               null|              null|\n",
            "| Gyeongsangbuk-do|              -|                 etc|      133| null|     null|      null|                   null|              null|            null|         null|                    null|               null|              null| null|     null|      null|                   null|              null|            null|         null|                    null|               null|              null| null|     null|      null|                   null|              null|            null|         null|                    null|               null|              null|\n",
            "+-----------------+---------------+--------------------+---------+-----+---------+----------+-----------------------+------------------+----------------+-------------+------------------------+-------------------+------------------+-----+---------+----------+-----------------------+------------------+----------------+-------------+------------------------+-------------------+------------------+-----+---------+----------+-----------------------+------------------+----------------+-------------+------------------------+-------------------+------------------+\n",
            "\n"
          ],
          "name": "stdout"
        }
      ]
    },
    {
      "cell_type": "code",
      "metadata": {
        "colab": {
          "base_uri": "https://localhost:8080/"
        },
        "id": "bV_7k0da_1Tn",
        "outputId": "d066704a-daf5-4977-f08a-9a8f559d3430"
      },
      "source": [
        "# Create New Columns\n",
        "import pyspark.sql.functions as F\n",
        "casesWithNewConfirmed = cases.withColumn(\"NewConfirmed\", 100 + F.col(\"confirmed\"))\n",
        "casesWithNewConfirmed.show()"
      ],
      "execution_count": 38,
      "outputs": [
        {
          "output_type": "stream",
          "text": [
            "+--------+---------------+--------------------+---------+-----+---------+----------+-----------------------+------------------+----------------+-------------+------------------------+-------------------+------------------+-----+---------+----------+-----------------------+------------------+----------------+-------------+------------------------+-------------------+------------------+-----+---------+----------+-----------------------+------------------+----------------+-------------+------------------------+-------------------+------------------+------------+\n",
            "|province|           city|      infection_case|confirmed| code| latitude| longitude|elementary_school_count|kindergarten_count|university_count|academy_ratio|elderly_population_ratio|elderly_alone_ratio|nursing_home_count| code| latitude| longitude|elementary_school_count|kindergarten_count|university_count|academy_ratio|elderly_population_ratio|elderly_alone_ratio|nursing_home_count| code| latitude| longitude|elementary_school_count|kindergarten_count|university_count|academy_ratio|elderly_population_ratio|elderly_alone_ratio|nursing_home_count|NewConfirmed|\n",
            "+--------+---------------+--------------------+---------+-----+---------+----------+-----------------------+------------------+----------------+-------------+------------------------+-------------------+------------------+-----+---------+----------+-----------------------+------------------+----------------+-------------+------------------------+-------------------+------------------+-----+---------+----------+-----------------------+------------------+----------------+-------------+------------------------+-------------------+------------------+------------+\n",
            "|   Seoul|     Yongsan-gu|       Itaewon Clubs|      139|10210|37.532768|126.990021|                     15|                13|               1|         0.68|                   16.87|                6.5|               435|10210|37.532768|126.990021|                     15|                13|               1|         0.68|                   16.87|                6.5|               435|10210|37.532768|126.990021|                     15|                13|               1|         0.68|                   16.87|                6.5|               435|         239|\n",
            "|   Seoul|      Gwanak-gu|             Richway|      119|10050| 37.47829|126.951502|                     22|                33|               1|         0.89|                   15.12|                4.9|               909|10050| 37.47829|126.951502|                     22|                33|               1|         0.89|                   15.12|                4.9|               909|10050| 37.47829|126.951502|                     22|                33|               1|         0.89|                   15.12|                4.9|               909|         219|\n",
            "|   Seoul|        Guro-gu| Guro-gu Call Center|       95|10070|37.495632| 126.88765|                     26|                34|               3|          1.0|                   16.21|                5.7|               741|10070|37.495632| 126.88765|                     26|                34|               3|          1.0|                   16.21|                5.7|               741|10070|37.495632| 126.88765|                     26|                34|               3|          1.0|                   16.21|                5.7|               741|         195|\n",
            "|   Seoul|   Yangcheon-gu|Yangcheon Table T...|       43|10190|37.517189|126.866618|                     30|                43|               0|         2.26|                   13.55|                5.5|               816|10190|37.517189|126.866618|                     30|                43|               0|         2.26|                   13.55|                5.5|               816|10190|37.517189|126.866618|                     30|                43|               0|         2.26|                   13.55|                5.5|               816|         143|\n",
            "|   Seoul|      Dobong-gu|     Day Care Center|       43|10100|37.668952|127.047082|                     23|                26|               1|         0.95|                   17.89|                7.2|               485|10100|37.668952|127.047082|                     23|                26|               1|         0.95|                   17.89|                7.2|               485|10100|37.668952|127.047082|                     23|                26|               1|         0.95|                   17.89|                7.2|               485|         143|\n",
            "|   Seoul|        Guro-gu|Manmin Central Ch...|       41|10070|37.495632| 126.88765|                     26|                34|               3|          1.0|                   16.21|                5.7|               741|10070|37.495632| 126.88765|                     26|                34|               3|          1.0|                   16.21|                5.7|               741|10070|37.495632| 126.88765|                     26|                34|               3|          1.0|                   16.21|                5.7|               741|         141|\n",
            "|   Seoul|from other city|SMR Newly Planted...|       36| null|     null|      null|                   null|              null|            null|         null|                    null|               null|              null| null|     null|      null|                   null|              null|            null|         null|                    null|               null|              null| null|     null|      null|                   null|              null|            null|         null|                    null|               null|              null|         136|\n",
            "|   Seoul|  Dongdaemun-gu|       Dongan Church|       17|10110|37.574552|127.039721|                     21|                31|               4|         1.06|                   17.26|                6.7|               832|10110|37.574552|127.039721|                     21|                31|               4|         1.06|                   17.26|                6.7|               832|10110|37.574552|127.039721|                     21|                31|               4|         1.06|                   17.26|                6.7|               832|         117|\n",
            "|   Seoul|from other city|Coupang Logistics...|       25| null|     null|      null|                   null|              null|            null|         null|                    null|               null|              null| null|     null|      null|                   null|              null|            null|         null|                    null|               null|              null| null|     null|      null|                   null|              null|            null|         null|                    null|               null|              null|         125|\n",
            "|   Seoul|      Gwanak-gu|     Wangsung Church|       30|10050| 37.47829|126.951502|                     22|                33|               1|         0.89|                   15.12|                4.9|               909|10050| 37.47829|126.951502|                     22|                33|               1|         0.89|                   15.12|                4.9|               909|10050| 37.47829|126.951502|                     22|                33|               1|         0.89|                   15.12|                4.9|               909|         130|\n",
            "|   Seoul|   Eunpyeong-gu|Eunpyeong St. Mar...|       14|10220|37.603481|126.929173|                     31|                44|               1|         1.09|                    17.0|                6.5|               874|10220|37.603481|126.929173|                     31|                44|               1|         1.09|                    17.0|                6.5|               874|10220|37.603481|126.929173|                     31|                44|               1|         1.09|                    17.0|                6.5|               874|         114|\n",
            "|   Seoul|   Seongdong-gu|    Seongdong-gu APT|       13|10160|37.563277|127.036647|                     21|                30|               2|         0.97|                   14.76|                5.3|               593|10160|37.563277|127.036647|                     21|                30|               2|         0.97|                   14.76|                5.3|               593|10160|37.563277|127.036647|                     21|                30|               2|         0.97|                   14.76|                5.3|               593|         113|\n",
            "|   Seoul|      Jongno-gu|Jongno Community ...|       10|10230|37.572999|126.979189|                     13|                17|               3|         1.71|                   18.27|                6.8|               668|10230|37.572999|126.979189|                     13|                17|               3|         1.71|                   18.27|                6.8|               668|10230|37.572999|126.979189|                     13|                17|               3|         1.71|                   18.27|                6.8|               668|         110|\n",
            "|   Seoul|     Gangnam-gu|Samsung Medical C...|        7|10010|37.518421|127.047222|                     33|                38|               0|         4.18|                   13.17|                4.3|              3088|10010|37.518421|127.047222|                     33|                38|               0|         4.18|                   13.17|                4.3|              3088|10010|37.518421|127.047222|                     33|                38|               0|         4.18|                   13.17|                4.3|              3088|         107|\n",
            "|   Seoul|        Jung-gu|Jung-gu Fashion C...|        7|10240|37.563988| 126.99753|                     12|                14|               2|         0.94|                   18.42|                7.4|               728|10240|37.563988| 126.99753|                     12|                14|               2|         0.94|                   18.42|                7.4|               728|10240|37.563988| 126.99753|                     12|                14|               2|         0.94|                   18.42|                7.4|               728|         107|\n",
            "|   Seoul|   Seodaemun-gu|  Yeonana News Class|        5|10140|37.579428|126.936771|                     19|                25|               6|         1.12|                   16.77|                6.2|               587|10140|37.579428|126.936771|                     19|                25|               6|         1.12|                   16.77|                6.2|               587|10140|37.579428|126.936771|                     19|                25|               6|         1.12|                   16.77|                6.2|               587|         105|\n",
            "|   Seoul|      Jongno-gu|Korea Campus Crus...|        7|10230|37.572999|126.979189|                     13|                17|               3|         1.71|                   18.27|                6.8|               668|10230|37.572999|126.979189|                     13|                17|               3|         1.71|                   18.27|                6.8|               668|10230|37.572999|126.979189|                     13|                17|               3|         1.71|                   18.27|                6.8|               668|         107|\n",
            "|   Seoul|     Gangnam-gu|Gangnam Yeoksam-d...|        6|10010|37.518421|127.047222|                     33|                38|               0|         4.18|                   13.17|                4.3|              3088|10010|37.518421|127.047222|                     33|                38|               0|         4.18|                   13.17|                4.3|              3088|10010|37.518421|127.047222|                     33|                38|               0|         4.18|                   13.17|                4.3|              3088|         106|\n",
            "|   Seoul|from other city|Daejeon door-to-d...|        1| null|     null|      null|                   null|              null|            null|         null|                    null|               null|              null| null|     null|      null|                   null|              null|            null|         null|                    null|               null|              null| null|     null|      null|                   null|              null|            null|         null|                    null|               null|              null|         101|\n",
            "|   Seoul|   Geumcheon-gu|Geumcheon-gu rice...|        6|10080|37.456852|126.895229|                     18|                19|               0|         0.96|                   16.15|                6.7|               475|10080|37.456852|126.895229|                     18|                19|               0|         0.96|                   16.15|                6.7|               475|10080|37.456852|126.895229|                     18|                19|               0|         0.96|                   16.15|                6.7|               475|         106|\n",
            "+--------+---------------+--------------------+---------+-----+---------+----------+-----------------------+------------------+----------------+-------------+------------------------+-------------------+------------------+-----+---------+----------+-----------------------+------------------+----------------+-------------+------------------------+-------------------+------------------+-----+---------+----------+-----------------------+------------------+----------------+-------------+------------------------+-------------------+------------------+------------+\n",
            "only showing top 20 rows\n",
            "\n"
          ],
          "name": "stdout"
        }
      ]
    },
    {
      "cell_type": "code",
      "metadata": {
        "colab": {
          "base_uri": "https://localhost:8080/"
        },
        "id": "mHm5nI8CAHmL",
        "outputId": "0cc94afc-12ab-411b-f45e-2be200900a58"
      },
      "source": [
        "casesWithExpConfirmed = cases.withColumn(\"ExpConfirmed\", F.exp(\"confirmed\"))\n",
        "casesWithExpConfirmed.show()"
      ],
      "execution_count": 39,
      "outputs": [
        {
          "output_type": "stream",
          "text": [
            "+--------+---------------+--------------------+---------+-----+---------+----------+-----------------------+------------------+----------------+-------------+------------------------+-------------------+------------------+-----+---------+----------+-----------------------+------------------+----------------+-------------+------------------------+-------------------+------------------+-----+---------+----------+-----------------------+------------------+----------------+-------------+------------------------+-------------------+------------------+--------------------+\n",
            "|province|           city|      infection_case|confirmed| code| latitude| longitude|elementary_school_count|kindergarten_count|university_count|academy_ratio|elderly_population_ratio|elderly_alone_ratio|nursing_home_count| code| latitude| longitude|elementary_school_count|kindergarten_count|university_count|academy_ratio|elderly_population_ratio|elderly_alone_ratio|nursing_home_count| code| latitude| longitude|elementary_school_count|kindergarten_count|university_count|academy_ratio|elderly_population_ratio|elderly_alone_ratio|nursing_home_count|        ExpConfirmed|\n",
            "+--------+---------------+--------------------+---------+-----+---------+----------+-----------------------+------------------+----------------+-------------+------------------------+-------------------+------------------+-----+---------+----------+-----------------------+------------------+----------------+-------------+------------------------+-------------------+------------------+-----+---------+----------+-----------------------+------------------+----------------+-------------+------------------------+-------------------+------------------+--------------------+\n",
            "|   Seoul|     Yongsan-gu|       Itaewon Clubs|      139|10210|37.532768|126.990021|                     15|                13|               1|         0.68|                   16.87|                6.5|               435|10210|37.532768|126.990021|                     15|                13|               1|         0.68|                   16.87|                6.5|               435|10210|37.532768|126.990021|                     15|                13|               1|         0.68|                   16.87|                6.5|               435|2.327732040478862E60|\n",
            "|   Seoul|      Gwanak-gu|             Richway|      119|10050| 37.47829|126.951502|                     22|                33|               1|         0.89|                   15.12|                4.9|               909|10050| 37.47829|126.951502|                     22|                33|               1|         0.89|                   15.12|                4.9|               909|10050| 37.47829|126.951502|                     22|                33|               1|         0.89|                   15.12|                4.9|               909|4.797813327299302E51|\n",
            "|   Seoul|        Guro-gu| Guro-gu Call Center|       95|10070|37.495632| 126.88765|                     26|                34|               3|          1.0|                   16.21|                5.7|               741|10070|37.495632| 126.88765|                     26|                34|               3|          1.0|                   16.21|                5.7|               741|10070|37.495632| 126.88765|                     26|                34|               3|          1.0|                   16.21|                5.7|               741|1.811239082889023...|\n",
            "|   Seoul|   Yangcheon-gu|Yangcheon Table T...|       43|10190|37.517189|126.866618|                     30|                43|               0|         2.26|                   13.55|                5.5|               816|10190|37.517189|126.866618|                     30|                43|               0|         2.26|                   13.55|                5.5|               816|10190|37.517189|126.866618|                     30|                43|               0|         2.26|                   13.55|                5.5|               816|4.727839468229346...|\n",
            "|   Seoul|      Dobong-gu|     Day Care Center|       43|10100|37.668952|127.047082|                     23|                26|               1|         0.95|                   17.89|                7.2|               485|10100|37.668952|127.047082|                     23|                26|               1|         0.95|                   17.89|                7.2|               485|10100|37.668952|127.047082|                     23|                26|               1|         0.95|                   17.89|                7.2|               485|4.727839468229346...|\n",
            "|   Seoul|        Guro-gu|Manmin Central Ch...|       41|10070|37.495632| 126.88765|                     26|                34|               3|          1.0|                   16.21|                5.7|               741|10070|37.495632| 126.88765|                     26|                34|               3|          1.0|                   16.21|                5.7|               741|10070|37.495632| 126.88765|                     26|                34|               3|          1.0|                   16.21|                5.7|               741|6.398434935300549...|\n",
            "|   Seoul|from other city|SMR Newly Planted...|       36| null|     null|      null|                   null|              null|            null|         null|                    null|               null|              null| null|     null|      null|                   null|              null|            null|         null|                    null|               null|              null| null|     null|      null|                   null|              null|            null|         null|                    null|               null|              null|4.311231547115195E15|\n",
            "|   Seoul|  Dongdaemun-gu|       Dongan Church|       17|10110|37.574552|127.039721|                     21|                31|               4|         1.06|                   17.26|                6.7|               832|10110|37.574552|127.039721|                     21|                31|               4|         1.06|                   17.26|                6.7|               832|10110|37.574552|127.039721|                     21|                31|               4|         1.06|                   17.26|                6.7|               832|  2.41549527535753E7|\n",
            "|   Seoul|from other city|Coupang Logistics...|       25| null|     null|      null|                   null|              null|            null|         null|                    null|               null|              null| null|     null|      null|                   null|              null|            null|         null|                    null|               null|              null| null|     null|      null|                   null|              null|            null|         null|                    null|               null|              null|7.200489933738588E10|\n",
            "|   Seoul|      Gwanak-gu|     Wangsung Church|       30|10050| 37.47829|126.951502|                     22|                33|               1|         0.89|                   15.12|                4.9|               909|10050| 37.47829|126.951502|                     22|                33|               1|         0.89|                   15.12|                4.9|               909|10050| 37.47829|126.951502|                     22|                33|               1|         0.89|                   15.12|                4.9|               909|1.068647458152446...|\n",
            "|   Seoul|   Eunpyeong-gu|Eunpyeong St. Mar...|       14|10220|37.603481|126.929173|                     31|                44|               1|         1.09|                    17.0|                6.5|               874|10220|37.603481|126.929173|                     31|                44|               1|         1.09|                    17.0|                6.5|               874|10220|37.603481|126.929173|                     31|                44|               1|         1.09|                    17.0|                6.5|               874|  1202604.2841647768|\n",
            "|   Seoul|   Seongdong-gu|    Seongdong-gu APT|       13|10160|37.563277|127.036647|                     21|                30|               2|         0.97|                   14.76|                5.3|               593|10160|37.563277|127.036647|                     21|                30|               2|         0.97|                   14.76|                5.3|               593|10160|37.563277|127.036647|                     21|                30|               2|         0.97|                   14.76|                5.3|               593|   442413.3920089205|\n",
            "|   Seoul|      Jongno-gu|Jongno Community ...|       10|10230|37.572999|126.979189|                     13|                17|               3|         1.71|                   18.27|                6.8|               668|10230|37.572999|126.979189|                     13|                17|               3|         1.71|                   18.27|                6.8|               668|10230|37.572999|126.979189|                     13|                17|               3|         1.71|                   18.27|                6.8|               668|  22026.465794806718|\n",
            "|   Seoul|     Gangnam-gu|Samsung Medical C...|        7|10010|37.518421|127.047222|                     33|                38|               0|         4.18|                   13.17|                4.3|              3088|10010|37.518421|127.047222|                     33|                38|               0|         4.18|                   13.17|                4.3|              3088|10010|37.518421|127.047222|                     33|                38|               0|         4.18|                   13.17|                4.3|              3088|  1096.6331584284585|\n",
            "|   Seoul|        Jung-gu|Jung-gu Fashion C...|        7|10240|37.563988| 126.99753|                     12|                14|               2|         0.94|                   18.42|                7.4|               728|10240|37.563988| 126.99753|                     12|                14|               2|         0.94|                   18.42|                7.4|               728|10240|37.563988| 126.99753|                     12|                14|               2|         0.94|                   18.42|                7.4|               728|  1096.6331584284585|\n",
            "|   Seoul|   Seodaemun-gu|  Yeonana News Class|        5|10140|37.579428|126.936771|                     19|                25|               6|         1.12|                   16.77|                6.2|               587|10140|37.579428|126.936771|                     19|                25|               6|         1.12|                   16.77|                6.2|               587|10140|37.579428|126.936771|                     19|                25|               6|         1.12|                   16.77|                6.2|               587|   148.4131591025766|\n",
            "|   Seoul|      Jongno-gu|Korea Campus Crus...|        7|10230|37.572999|126.979189|                     13|                17|               3|         1.71|                   18.27|                6.8|               668|10230|37.572999|126.979189|                     13|                17|               3|         1.71|                   18.27|                6.8|               668|10230|37.572999|126.979189|                     13|                17|               3|         1.71|                   18.27|                6.8|               668|  1096.6331584284585|\n",
            "|   Seoul|     Gangnam-gu|Gangnam Yeoksam-d...|        6|10010|37.518421|127.047222|                     33|                38|               0|         4.18|                   13.17|                4.3|              3088|10010|37.518421|127.047222|                     33|                38|               0|         4.18|                   13.17|                4.3|              3088|10010|37.518421|127.047222|                     33|                38|               0|         4.18|                   13.17|                4.3|              3088|   403.4287934927351|\n",
            "|   Seoul|from other city|Daejeon door-to-d...|        1| null|     null|      null|                   null|              null|            null|         null|                    null|               null|              null| null|     null|      null|                   null|              null|            null|         null|                    null|               null|              null| null|     null|      null|                   null|              null|            null|         null|                    null|               null|              null|  2.7182818284590455|\n",
            "|   Seoul|   Geumcheon-gu|Geumcheon-gu rice...|        6|10080|37.456852|126.895229|                     18|                19|               0|         0.96|                   16.15|                6.7|               475|10080|37.456852|126.895229|                     18|                19|               0|         0.96|                   16.15|                6.7|               475|10080|37.456852|126.895229|                     18|                19|               0|         0.96|                   16.15|                6.7|               475|   403.4287934927351|\n",
            "+--------+---------------+--------------------+---------+-----+---------+----------+-----------------------+------------------+----------------+-------------+------------------------+-------------------+------------------+-----+---------+----------+-----------------------+------------------+----------------+-------------+------------------------+-------------------+------------------+-----+---------+----------+-----------------------+------------------+----------------+-------------+------------------------+-------------------+------------------+--------------------+\n",
            "only showing top 20 rows\n",
            "\n"
          ],
          "name": "stdout"
        }
      ]
    },
    {
      "cell_type": "code",
      "metadata": {
        "colab": {
          "base_uri": "https://localhost:8080/"
        },
        "id": "C6luZTEDAJqi",
        "outputId": "e3fe3d4f-1142-4f71-cbb1-c8714dcad46a"
      },
      "source": [
        "# Using Spark UDFs\n",
        "\n",
        "import pyspark.sql.functions as F\n",
        "from pyspark.sql.types import *\n",
        "def casesHighLow(confirmed):\n",
        "    if confirmed < 50: \n",
        "        return 'low'\n",
        "    else:\n",
        "        return 'high'\n",
        "    \n",
        "#convert to a UDF Function by passing in the function and return type of function\n",
        "casesHighLowUDF = F.udf(casesHighLow, StringType())\n",
        "CasesWithHighLow = cases.withColumn(\"HighLow\", casesHighLowUDF(\"confirmed\"))\n",
        "CasesWithHighLow.show()"
      ],
      "execution_count": 40,
      "outputs": [
        {
          "output_type": "stream",
          "text": [
            "+--------+---------------+--------------------+---------+-----+---------+----------+-----------------------+------------------+----------------+-------------+------------------------+-------------------+------------------+-----+---------+----------+-----------------------+------------------+----------------+-------------+------------------------+-------------------+------------------+-----+---------+----------+-----------------------+------------------+----------------+-------------+------------------------+-------------------+------------------+-------+\n",
            "|province|           city|      infection_case|confirmed| code| latitude| longitude|elementary_school_count|kindergarten_count|university_count|academy_ratio|elderly_population_ratio|elderly_alone_ratio|nursing_home_count| code| latitude| longitude|elementary_school_count|kindergarten_count|university_count|academy_ratio|elderly_population_ratio|elderly_alone_ratio|nursing_home_count| code| latitude| longitude|elementary_school_count|kindergarten_count|university_count|academy_ratio|elderly_population_ratio|elderly_alone_ratio|nursing_home_count|HighLow|\n",
            "+--------+---------------+--------------------+---------+-----+---------+----------+-----------------------+------------------+----------------+-------------+------------------------+-------------------+------------------+-----+---------+----------+-----------------------+------------------+----------------+-------------+------------------------+-------------------+------------------+-----+---------+----------+-----------------------+------------------+----------------+-------------+------------------------+-------------------+------------------+-------+\n",
            "|   Seoul|     Yongsan-gu|       Itaewon Clubs|      139|10210|37.532768|126.990021|                     15|                13|               1|         0.68|                   16.87|                6.5|               435|10210|37.532768|126.990021|                     15|                13|               1|         0.68|                   16.87|                6.5|               435|10210|37.532768|126.990021|                     15|                13|               1|         0.68|                   16.87|                6.5|               435|   high|\n",
            "|   Seoul|      Gwanak-gu|             Richway|      119|10050| 37.47829|126.951502|                     22|                33|               1|         0.89|                   15.12|                4.9|               909|10050| 37.47829|126.951502|                     22|                33|               1|         0.89|                   15.12|                4.9|               909|10050| 37.47829|126.951502|                     22|                33|               1|         0.89|                   15.12|                4.9|               909|   high|\n",
            "|   Seoul|        Guro-gu| Guro-gu Call Center|       95|10070|37.495632| 126.88765|                     26|                34|               3|          1.0|                   16.21|                5.7|               741|10070|37.495632| 126.88765|                     26|                34|               3|          1.0|                   16.21|                5.7|               741|10070|37.495632| 126.88765|                     26|                34|               3|          1.0|                   16.21|                5.7|               741|   high|\n",
            "|   Seoul|   Yangcheon-gu|Yangcheon Table T...|       43|10190|37.517189|126.866618|                     30|                43|               0|         2.26|                   13.55|                5.5|               816|10190|37.517189|126.866618|                     30|                43|               0|         2.26|                   13.55|                5.5|               816|10190|37.517189|126.866618|                     30|                43|               0|         2.26|                   13.55|                5.5|               816|    low|\n",
            "|   Seoul|      Dobong-gu|     Day Care Center|       43|10100|37.668952|127.047082|                     23|                26|               1|         0.95|                   17.89|                7.2|               485|10100|37.668952|127.047082|                     23|                26|               1|         0.95|                   17.89|                7.2|               485|10100|37.668952|127.047082|                     23|                26|               1|         0.95|                   17.89|                7.2|               485|    low|\n",
            "|   Seoul|        Guro-gu|Manmin Central Ch...|       41|10070|37.495632| 126.88765|                     26|                34|               3|          1.0|                   16.21|                5.7|               741|10070|37.495632| 126.88765|                     26|                34|               3|          1.0|                   16.21|                5.7|               741|10070|37.495632| 126.88765|                     26|                34|               3|          1.0|                   16.21|                5.7|               741|    low|\n",
            "|   Seoul|from other city|SMR Newly Planted...|       36| null|     null|      null|                   null|              null|            null|         null|                    null|               null|              null| null|     null|      null|                   null|              null|            null|         null|                    null|               null|              null| null|     null|      null|                   null|              null|            null|         null|                    null|               null|              null|    low|\n",
            "|   Seoul|  Dongdaemun-gu|       Dongan Church|       17|10110|37.574552|127.039721|                     21|                31|               4|         1.06|                   17.26|                6.7|               832|10110|37.574552|127.039721|                     21|                31|               4|         1.06|                   17.26|                6.7|               832|10110|37.574552|127.039721|                     21|                31|               4|         1.06|                   17.26|                6.7|               832|    low|\n",
            "|   Seoul|from other city|Coupang Logistics...|       25| null|     null|      null|                   null|              null|            null|         null|                    null|               null|              null| null|     null|      null|                   null|              null|            null|         null|                    null|               null|              null| null|     null|      null|                   null|              null|            null|         null|                    null|               null|              null|    low|\n",
            "|   Seoul|      Gwanak-gu|     Wangsung Church|       30|10050| 37.47829|126.951502|                     22|                33|               1|         0.89|                   15.12|                4.9|               909|10050| 37.47829|126.951502|                     22|                33|               1|         0.89|                   15.12|                4.9|               909|10050| 37.47829|126.951502|                     22|                33|               1|         0.89|                   15.12|                4.9|               909|    low|\n",
            "|   Seoul|   Eunpyeong-gu|Eunpyeong St. Mar...|       14|10220|37.603481|126.929173|                     31|                44|               1|         1.09|                    17.0|                6.5|               874|10220|37.603481|126.929173|                     31|                44|               1|         1.09|                    17.0|                6.5|               874|10220|37.603481|126.929173|                     31|                44|               1|         1.09|                    17.0|                6.5|               874|    low|\n",
            "|   Seoul|   Seongdong-gu|    Seongdong-gu APT|       13|10160|37.563277|127.036647|                     21|                30|               2|         0.97|                   14.76|                5.3|               593|10160|37.563277|127.036647|                     21|                30|               2|         0.97|                   14.76|                5.3|               593|10160|37.563277|127.036647|                     21|                30|               2|         0.97|                   14.76|                5.3|               593|    low|\n",
            "|   Seoul|      Jongno-gu|Jongno Community ...|       10|10230|37.572999|126.979189|                     13|                17|               3|         1.71|                   18.27|                6.8|               668|10230|37.572999|126.979189|                     13|                17|               3|         1.71|                   18.27|                6.8|               668|10230|37.572999|126.979189|                     13|                17|               3|         1.71|                   18.27|                6.8|               668|    low|\n",
            "|   Seoul|     Gangnam-gu|Samsung Medical C...|        7|10010|37.518421|127.047222|                     33|                38|               0|         4.18|                   13.17|                4.3|              3088|10010|37.518421|127.047222|                     33|                38|               0|         4.18|                   13.17|                4.3|              3088|10010|37.518421|127.047222|                     33|                38|               0|         4.18|                   13.17|                4.3|              3088|    low|\n",
            "|   Seoul|        Jung-gu|Jung-gu Fashion C...|        7|10240|37.563988| 126.99753|                     12|                14|               2|         0.94|                   18.42|                7.4|               728|10240|37.563988| 126.99753|                     12|                14|               2|         0.94|                   18.42|                7.4|               728|10240|37.563988| 126.99753|                     12|                14|               2|         0.94|                   18.42|                7.4|               728|    low|\n",
            "|   Seoul|   Seodaemun-gu|  Yeonana News Class|        5|10140|37.579428|126.936771|                     19|                25|               6|         1.12|                   16.77|                6.2|               587|10140|37.579428|126.936771|                     19|                25|               6|         1.12|                   16.77|                6.2|               587|10140|37.579428|126.936771|                     19|                25|               6|         1.12|                   16.77|                6.2|               587|    low|\n",
            "|   Seoul|      Jongno-gu|Korea Campus Crus...|        7|10230|37.572999|126.979189|                     13|                17|               3|         1.71|                   18.27|                6.8|               668|10230|37.572999|126.979189|                     13|                17|               3|         1.71|                   18.27|                6.8|               668|10230|37.572999|126.979189|                     13|                17|               3|         1.71|                   18.27|                6.8|               668|    low|\n",
            "|   Seoul|     Gangnam-gu|Gangnam Yeoksam-d...|        6|10010|37.518421|127.047222|                     33|                38|               0|         4.18|                   13.17|                4.3|              3088|10010|37.518421|127.047222|                     33|                38|               0|         4.18|                   13.17|                4.3|              3088|10010|37.518421|127.047222|                     33|                38|               0|         4.18|                   13.17|                4.3|              3088|    low|\n",
            "|   Seoul|from other city|Daejeon door-to-d...|        1| null|     null|      null|                   null|              null|            null|         null|                    null|               null|              null| null|     null|      null|                   null|              null|            null|         null|                    null|               null|              null| null|     null|      null|                   null|              null|            null|         null|                    null|               null|              null|    low|\n",
            "|   Seoul|   Geumcheon-gu|Geumcheon-gu rice...|        6|10080|37.456852|126.895229|                     18|                19|               0|         0.96|                   16.15|                6.7|               475|10080|37.456852|126.895229|                     18|                19|               0|         0.96|                   16.15|                6.7|               475|10080|37.456852|126.895229|                     18|                19|               0|         0.96|                   16.15|                6.7|               475|    low|\n",
            "+--------+---------------+--------------------+---------+-----+---------+----------+-----------------------+------------------+----------------+-------------+------------------------+-------------------+------------------+-----+---------+----------+-----------------------+------------------+----------------+-------------+------------------------+-------------------+------------------+-----+---------+----------+-----------------------+------------------+----------------+-------------+------------------------+-------------------+------------------+-------+\n",
            "only showing top 20 rows\n",
            "\n"
          ],
          "name": "stdout"
        }
      ]
    },
    {
      "cell_type": "code",
      "metadata": {
        "colab": {
          "base_uri": "https://localhost:8080/"
        },
        "id": "iz4xO97sAOUA",
        "outputId": "1f0868bc-6873-45ff-8ae4-bab973c6fd3b"
      },
      "source": [
        "# Using RDDs\n",
        "import numpy as np\n",
        "import math\n",
        "from pyspark.sql import Row\n",
        "def rowwise_function(row):\n",
        "    # convert row to python dictionary:\n",
        "    row_dict = row.asDict()\n",
        "    # Add a new key in the dictionary with the new column name and value.\n",
        "    # This might be a big complex function.\n",
        "    row_dict['expConfirmed'] = float(np.exp(row_dict['confirmed']))\n",
        "    # convert dict to row back again:\n",
        "    newrow = Row(**row_dict)\n",
        "    # return new row\n",
        "    return newrow\n",
        "# convert cases dataframe to RDD\n",
        "cases_rdd = cases.rdd\n",
        "# apply our function to RDD\n",
        "cases_rdd_new = cases_rdd.map(lambda row: rowwise_function(row))\n",
        "# Convert RDD Back to DataFrame\n",
        "from pyspark.sql import SQLContext\n",
        "sqlContext = SQLContext(sc)\n",
        "casesNewDf = sqlContext.createDataFrame(cases_rdd_new)\n",
        "casesNewDf.show()"
      ],
      "execution_count": 47,
      "outputs": [
        {
          "output_type": "stream",
          "text": [
            "+--------+---------------+--------------------+---------+-----+---------+----------+-----------------------+------------------+----------------+-------------+------------------------+-------------------+------------------+--------------------+\n",
            "|province|           city|      infection_case|confirmed| code| latitude| longitude|elementary_school_count|kindergarten_count|university_count|academy_ratio|elderly_population_ratio|elderly_alone_ratio|nursing_home_count|        expConfirmed|\n",
            "+--------+---------------+--------------------+---------+-----+---------+----------+-----------------------+------------------+----------------+-------------+------------------------+-------------------+------------------+--------------------+\n",
            "|   Seoul|     Yongsan-gu|       Itaewon Clubs|      139|10210|37.532768|126.990021|                     15|                13|               1|         0.68|                   16.87|                6.5|               435|2.327732040478862...|\n",
            "|   Seoul|      Gwanak-gu|             Richway|      119|10050| 37.47829|126.951502|                     22|                33|               1|         0.89|                   15.12|                4.9|               909|4.797813327299302E51|\n",
            "|   Seoul|        Guro-gu| Guro-gu Call Center|       95|10070|37.495632| 126.88765|                     26|                34|               3|          1.0|                   16.21|                5.7|               741|1.811239082889023...|\n",
            "|   Seoul|   Yangcheon-gu|Yangcheon Table T...|       43|10190|37.517189|126.866618|                     30|                43|               0|         2.26|                   13.55|                5.5|               816|4.727839468229346...|\n",
            "|   Seoul|      Dobong-gu|     Day Care Center|       43|10100|37.668952|127.047082|                     23|                26|               1|         0.95|                   17.89|                7.2|               485|4.727839468229346...|\n",
            "|   Seoul|        Guro-gu|Manmin Central Ch...|       41|10070|37.495632| 126.88765|                     26|                34|               3|          1.0|                   16.21|                5.7|               741|6.398434935300549...|\n",
            "|   Seoul|from other city|SMR Newly Planted...|       36| null|     null|      null|                   null|              null|            null|         null|                    null|               null|              null|4.311231547115195E15|\n",
            "|   Seoul|  Dongdaemun-gu|       Dongan Church|       17|10110|37.574552|127.039721|                     21|                31|               4|         1.06|                   17.26|                6.7|               832|  2.41549527535753E7|\n",
            "|   Seoul|from other city|Coupang Logistics...|       25| null|     null|      null|                   null|              null|            null|         null|                    null|               null|              null|7.200489933738588E10|\n",
            "|   Seoul|      Gwanak-gu|     Wangsung Church|       30|10050| 37.47829|126.951502|                     22|                33|               1|         0.89|                   15.12|                4.9|               909|1.068647458152446...|\n",
            "|   Seoul|   Eunpyeong-gu|Eunpyeong St. Mar...|       14|10220|37.603481|126.929173|                     31|                44|               1|         1.09|                    17.0|                6.5|               874|  1202604.2841647768|\n",
            "|   Seoul|   Seongdong-gu|    Seongdong-gu APT|       13|10160|37.563277|127.036647|                     21|                30|               2|         0.97|                   14.76|                5.3|               593|   442413.3920089205|\n",
            "|   Seoul|      Jongno-gu|Jongno Community ...|       10|10230|37.572999|126.979189|                     13|                17|               3|         1.71|                   18.27|                6.8|               668|  22026.465794806718|\n",
            "|   Seoul|     Gangnam-gu|Samsung Medical C...|        7|10010|37.518421|127.047222|                     33|                38|               0|         4.18|                   13.17|                4.3|              3088|  1096.6331584284585|\n",
            "|   Seoul|        Jung-gu|Jung-gu Fashion C...|        7|10240|37.563988| 126.99753|                     12|                14|               2|         0.94|                   18.42|                7.4|               728|  1096.6331584284585|\n",
            "|   Seoul|   Seodaemun-gu|  Yeonana News Class|        5|10140|37.579428|126.936771|                     19|                25|               6|         1.12|                   16.77|                6.2|               587|   148.4131591025766|\n",
            "|   Seoul|      Jongno-gu|Korea Campus Crus...|        7|10230|37.572999|126.979189|                     13|                17|               3|         1.71|                   18.27|                6.8|               668|  1096.6331584284585|\n",
            "|   Seoul|     Gangnam-gu|Gangnam Yeoksam-d...|        6|10010|37.518421|127.047222|                     33|                38|               0|         4.18|                   13.17|                4.3|              3088|   403.4287934927351|\n",
            "|   Seoul|from other city|Daejeon door-to-d...|        1| null|     null|      null|                   null|              null|            null|         null|                    null|               null|              null|   2.718281828459045|\n",
            "|   Seoul|   Geumcheon-gu|Geumcheon-gu rice...|        6|10080|37.456852|126.895229|                     18|                19|               0|         0.96|                   16.15|                6.7|               475|   403.4287934927351|\n",
            "+--------+---------------+--------------------+---------+-----+---------+----------+-----------------------+------------------+----------------+-------------+------------------------+-------------------+------------------+--------------------+\n",
            "only showing top 20 rows\n",
            "\n"
          ],
          "name": "stdout"
        }
      ]
    },
    {
      "cell_type": "code",
      "metadata": {
        "colab": {
          "base_uri": "https://localhost:8080/"
        },
        "id": "Mwy7KasOASo9",
        "outputId": "801d684e-fd34-40a6-8a48-3ab9004a0738"
      },
      "source": [
        "# Using Pandas UDF\n",
        "cases.printSchema()\n"
      ],
      "execution_count": 48,
      "outputs": [
        {
          "output_type": "stream",
          "text": [
            "root\n",
            " |-- province: string (nullable = true)\n",
            " |-- city: string (nullable = true)\n",
            " |-- infection_case: string (nullable = true)\n",
            " |-- confirmed: integer (nullable = true)\n",
            " |-- code: integer (nullable = true)\n",
            " |-- latitude: double (nullable = true)\n",
            " |-- longitude: double (nullable = true)\n",
            " |-- elementary_school_count: integer (nullable = true)\n",
            " |-- kindergarten_count: integer (nullable = true)\n",
            " |-- university_count: integer (nullable = true)\n",
            " |-- academy_ratio: double (nullable = true)\n",
            " |-- elderly_population_ratio: double (nullable = true)\n",
            " |-- elderly_alone_ratio: double (nullable = true)\n",
            " |-- nursing_home_count: integer (nullable = true)\n",
            " |-- code: integer (nullable = true)\n",
            " |-- latitude: double (nullable = true)\n",
            " |-- longitude: double (nullable = true)\n",
            " |-- elementary_school_count: integer (nullable = true)\n",
            " |-- kindergarten_count: integer (nullable = true)\n",
            " |-- university_count: integer (nullable = true)\n",
            " |-- academy_ratio: double (nullable = true)\n",
            " |-- elderly_population_ratio: double (nullable = true)\n",
            " |-- elderly_alone_ratio: double (nullable = true)\n",
            " |-- nursing_home_count: integer (nullable = true)\n",
            " |-- code: integer (nullable = true)\n",
            " |-- latitude: double (nullable = true)\n",
            " |-- longitude: double (nullable = true)\n",
            " |-- elementary_school_count: integer (nullable = true)\n",
            " |-- kindergarten_count: integer (nullable = true)\n",
            " |-- university_count: integer (nullable = true)\n",
            " |-- academy_ratio: double (nullable = true)\n",
            " |-- elderly_population_ratio: double (nullable = true)\n",
            " |-- elderly_alone_ratio: double (nullable = true)\n",
            " |-- nursing_home_count: integer (nullable = true)\n",
            "\n"
          ],
          "name": "stdout"
        }
      ]
    },
    {
      "cell_type": "code",
      "metadata": {
        "colab": {
          "base_uri": "https://localhost:8080/"
        },
        "id": "1qJuhbepBAeT",
        "outputId": "c37659b3-c16d-4083-bdec-9900c3946aa3"
      },
      "source": [
        "#   Spark Window Functions\n",
        "from pyspark.sql.window import Window\n",
        "windowSpec = Window().partitionBy(['province']).orderBy(F.desc('confirmed'))\n",
        "cases.withColumn(\"rank\",F.rank().over(windowSpec)).show()"
      ],
      "execution_count": 50,
      "outputs": [
        {
          "output_type": "stream",
          "text": [
            "+-----------------+---------------+--------------------+---------+-----+---------+----------+-----------------------+------------------+----------------+-------------+------------------------+-------------------+------------------+-----+---------+----------+-----------------------+------------------+----------------+-------------+------------------------+-------------------+------------------+-----+---------+----------+-----------------------+------------------+----------------+-------------+------------------------+-------------------+------------------+----+\n",
            "|         province|           city|      infection_case|confirmed| code| latitude| longitude|elementary_school_count|kindergarten_count|university_count|academy_ratio|elderly_population_ratio|elderly_alone_ratio|nursing_home_count| code| latitude| longitude|elementary_school_count|kindergarten_count|university_count|academy_ratio|elderly_population_ratio|elderly_alone_ratio|nursing_home_count| code| latitude| longitude|elementary_school_count|kindergarten_count|university_count|academy_ratio|elderly_population_ratio|elderly_alone_ratio|nursing_home_count|rank|\n",
            "+-----------------+---------------+--------------------+---------+-----+---------+----------+-----------------------+------------------+----------------+-------------+------------------------+-------------------+------------------+-----+---------+----------+-----------------------+------------------+----------------+-------------+------------------------+-------------------+------------------+-----+---------+----------+-----------------------+------------------+----------------+-------------+------------------------+-------------------+------------------+----+\n",
            "|           Sejong|         Sejong|Ministry of Ocean...|       31|17000|36.480132|127.289021|                     48|                60|               3|         1.78|                    9.48|                3.8|               491|17000|36.480132|127.289021|                     48|                60|               3|         1.78|                    9.48|                3.8|               491|17000|36.480132|127.289021|                     48|                60|               3|         1.78|                    9.48|                3.8|               491|   1|\n",
            "|           Sejong|         Sejong|gym facility in S...|        8|17000|36.480132|127.289021|                     48|                60|               3|         1.78|                    9.48|                3.8|               491|17000|36.480132|127.289021|                     48|                60|               3|         1.78|                    9.48|                3.8|               491|17000|36.480132|127.289021|                     48|                60|               3|         1.78|                    9.48|                3.8|               491|   2|\n",
            "|           Sejong|              -|     overseas inflow|        5| null|     null|      null|                   null|              null|            null|         null|                    null|               null|              null| null|     null|      null|                   null|              null|            null|         null|                    null|               null|              null| null|     null|      null|                   null|              null|            null|         null|                    null|               null|              null|   3|\n",
            "|           Sejong|              -|contact with patient|        3| null|     null|      null|                   null|              null|            null|         null|                    null|               null|              null| null|     null|      null|                   null|              null|            null|         null|                    null|               null|              null| null|     null|      null|                   null|              null|            null|         null|                    null|               null|              null|   4|\n",
            "|           Sejong|from other city|  Shincheonji Church|        1| null|     null|      null|                   null|              null|            null|         null|                    null|               null|              null| null|     null|      null|                   null|              null|            null|         null|                    null|               null|              null| null|     null|      null|                   null|              null|            null|         null|                    null|               null|              null|   5|\n",
            "|           Sejong|              -|                 etc|        1| null|     null|      null|                   null|              null|            null|         null|                    null|               null|              null| null|     null|      null|                   null|              null|            null|         null|                    null|               null|              null| null|     null|      null|                   null|              null|            null|         null|                    null|               null|              null|   5|\n",
            "|            Ulsan|              -|     overseas inflow|       25| null|     null|      null|                   null|              null|            null|         null|                    null|               null|              null| null|     null|      null|                   null|              null|            null|         null|                    null|               null|              null| null|     null|      null|                   null|              null|            null|         null|                    null|               null|              null|   1|\n",
            "|            Ulsan|from other city|  Shincheonji Church|       16| null|     null|      null|                   null|              null|            null|         null|                    null|               null|              null| null|     null|      null|                   null|              null|            null|         null|                    null|               null|              null| null|     null|      null|                   null|              null|            null|         null|                    null|               null|              null|   2|\n",
            "|            Ulsan|              -|                 etc|        7| null|     null|      null|                   null|              null|            null|         null|                    null|               null|              null| null|     null|      null|                   null|              null|            null|         null|                    null|               null|              null| null|     null|      null|                   null|              null|            null|         null|                    null|               null|              null|   3|\n",
            "|            Ulsan|              -|contact with patient|        3| null|     null|      null|                   null|              null|            null|         null|                    null|               null|              null| null|     null|      null|                   null|              null|            null|         null|                    null|               null|              null| null|     null|      null|                   null|              null|            null|         null|                    null|               null|              null|   4|\n",
            "|Chungcheongbuk-do|              -|     overseas inflow|       13| null|     null|      null|                   null|              null|            null|         null|                    null|               null|              null| null|     null|      null|                   null|              null|            null|         null|                    null|               null|              null| null|     null|      null|                   null|              null|            null|         null|                    null|               null|              null|   1|\n",
            "|Chungcheongbuk-do|     Goesan-gun|Goesan-gun Jangye...|       11|40010| 36.81534|127.786651|                     14|                15|               1|         0.36|                   33.01|               16.5|                64|40010| 36.81534|127.786651|                     14|                15|               1|         0.36|                   33.01|               16.5|                64|40010| 36.81534|127.786651|                     14|                15|               1|         0.36|                   33.01|               16.5|                64|   2|\n",
            "|Chungcheongbuk-do|              -|                 etc|       11| null|     null|      null|                   null|              null|            null|         null|                    null|               null|              null| null|     null|      null|                   null|              null|            null|         null|                    null|               null|              null| null|     null|      null|                   null|              null|            null|         null|                    null|               null|              null|   2|\n",
            "|Chungcheongbuk-do|from other city|       Itaewon Clubs|        9| null|     null|      null|                   null|              null|            null|         null|                    null|               null|              null| null|     null|      null|                   null|              null|            null|         null|                    null|               null|              null| null|     null|      null|                   null|              null|            null|         null|                    null|               null|              null|   4|\n",
            "|Chungcheongbuk-do|              -|contact with patient|        8| null|     null|      null|                   null|              null|            null|         null|                    null|               null|              null| null|     null|      null|                   null|              null|            null|         null|                    null|               null|              null| null|     null|      null|                   null|              null|            null|         null|                    null|               null|              null|   5|\n",
            "|Chungcheongbuk-do|from other city|  Shincheonji Church|        6| null|     null|      null|                   null|              null|            null|         null|                    null|               null|              null| null|     null|      null|                   null|              null|            null|         null|                    null|               null|              null| null|     null|      null|                   null|              null|            null|         null|                    null|               null|              null|   6|\n",
            "|Chungcheongbuk-do|from other city| Guro-gu Call Center|        2| null|     null|      null|                   null|              null|            null|         null|                    null|               null|              null| null|     null|      null|                   null|              null|            null|         null|                    null|               null|              null| null|     null|      null|                   null|              null|            null|         null|                    null|               null|              null|   7|\n",
            "|       Gangwon-do|from other city|  Shincheonji Church|       17| null|     null|      null|                   null|              null|            null|         null|                    null|               null|              null| null|     null|      null|                   null|              null|            null|         null|                    null|               null|              null| null|     null|      null|                   null|              null|            null|         null|                    null|               null|              null|   1|\n",
            "|       Gangwon-do|              -|     overseas inflow|       16| null|     null|      null|                   null|              null|            null|         null|                    null|               null|              null| null|     null|      null|                   null|              null|            null|         null|                    null|               null|              null| null|     null|      null|                   null|              null|            null|         null|                    null|               null|              null|   2|\n",
            "|       Gangwon-do|from other city|Uijeongbu St. Mar...|       10| null|     null|      null|                   null|              null|            null|         null|                    null|               null|              null| null|     null|      null|                   null|              null|            null|         null|                    null|               null|              null| null|     null|      null|                   null|              null|            null|         null|                    null|               null|              null|   3|\n",
            "+-----------------+---------------+--------------------+---------+-----+---------+----------+-----------------------+------------------+----------------+-------------+------------------------+-------------------+------------------+-----+---------+----------+-----------------------+------------------+----------------+-------------+------------------------+-------------------+------------------+-----+---------+----------+-----------------------+------------------+----------------+-------------+------------------------+-------------------+------------------+----+\n",
            "only showing top 20 rows\n",
            "\n"
          ],
          "name": "stdout"
        }
      ]
    },
    {
      "cell_type": "code",
      "metadata": {
        "colab": {
          "base_uri": "https://localhost:8080/"
        },
        "id": "gD2C6h7eBx7R",
        "outputId": "d6a3a1d4-a2d8-479b-c7fa-741d8e16353a"
      },
      "source": [
        "timeprovince = spark.read.load('TimeProvince.csv',format=\"csv\", sep=\",\", inferSchema=\"true\", header=\"true\")\n",
        "timeprovince.show()"
      ],
      "execution_count": 54,
      "outputs": [
        {
          "output_type": "stream",
          "text": [
            "+----------+----+-----------------+---------+--------+--------+\n",
            "|      date|time|         province|confirmed|released|deceased|\n",
            "+----------+----+-----------------+---------+--------+--------+\n",
            "|2020-01-20|  16|            Seoul|        0|       0|       0|\n",
            "|2020-01-20|  16|            Busan|        0|       0|       0|\n",
            "|2020-01-20|  16|            Daegu|        0|       0|       0|\n",
            "|2020-01-20|  16|          Incheon|        1|       0|       0|\n",
            "|2020-01-20|  16|          Gwangju|        0|       0|       0|\n",
            "|2020-01-20|  16|          Daejeon|        0|       0|       0|\n",
            "|2020-01-20|  16|            Ulsan|        0|       0|       0|\n",
            "|2020-01-20|  16|           Sejong|        0|       0|       0|\n",
            "|2020-01-20|  16|      Gyeonggi-do|        0|       0|       0|\n",
            "|2020-01-20|  16|       Gangwon-do|        0|       0|       0|\n",
            "|2020-01-20|  16|Chungcheongbuk-do|        0|       0|       0|\n",
            "|2020-01-20|  16|Chungcheongnam-do|        0|       0|       0|\n",
            "|2020-01-20|  16|     Jeollabuk-do|        0|       0|       0|\n",
            "|2020-01-20|  16|     Jeollanam-do|        0|       0|       0|\n",
            "|2020-01-20|  16| Gyeongsangbuk-do|        0|       0|       0|\n",
            "|2020-01-20|  16| Gyeongsangnam-do|        0|       0|       0|\n",
            "|2020-01-20|  16|          Jeju-do|        0|       0|       0|\n",
            "|2020-01-21|  16|            Seoul|        0|       0|       0|\n",
            "|2020-01-21|  16|            Busan|        0|       0|       0|\n",
            "|2020-01-21|  16|            Daegu|        0|       0|       0|\n",
            "+----------+----+-----------------+---------+--------+--------+\n",
            "only showing top 20 rows\n",
            "\n"
          ],
          "name": "stdout"
        }
      ]
    },
    {
      "cell_type": "code",
      "metadata": {
        "colab": {
          "base_uri": "https://localhost:8080/"
        },
        "id": "8C630xDvBc-4",
        "outputId": "0332f871-d91a-4e0f-8add-1f4743c389bd"
      },
      "source": [
        "# Lag Variables\n",
        "from pyspark.sql.window import Window\n",
        "windowSpec = Window().partitionBy(['province']).orderBy('date')\n",
        "timeprovinceWithLag = timeprovince.withColumn(\"lag_7\",F.lag(\"confirmed\", 7).over(windowSpec))\n",
        "timeprovinceWithLag.filter(timeprovinceWithLag.date>'2020-03-10').show()"
      ],
      "execution_count": 55,
      "outputs": [
        {
          "output_type": "stream",
          "text": [
            "+----------+----+--------+---------+--------+--------+-----+\n",
            "|      date|time|province|confirmed|released|deceased|lag_7|\n",
            "+----------+----+--------+---------+--------+--------+-----+\n",
            "|2020-03-11|   0|  Sejong|       10|       0|       0|    1|\n",
            "|2020-03-12|   0|  Sejong|       15|       0|       0|    1|\n",
            "|2020-03-13|   0|  Sejong|       32|       0|       0|    1|\n",
            "|2020-03-14|   0|  Sejong|       38|       0|       0|    2|\n",
            "|2020-03-15|   0|  Sejong|       39|       0|       0|    3|\n",
            "|2020-03-16|   0|  Sejong|       40|       0|       0|    6|\n",
            "|2020-03-17|   0|  Sejong|       40|       0|       0|    8|\n",
            "|2020-03-18|   0|  Sejong|       41|       0|       0|   10|\n",
            "|2020-03-19|   0|  Sejong|       41|       0|       0|   15|\n",
            "|2020-03-20|   0|  Sejong|       41|       0|       0|   32|\n",
            "|2020-03-21|   0|  Sejong|       41|       2|       0|   38|\n",
            "|2020-03-22|   0|  Sejong|       41|       3|       0|   39|\n",
            "|2020-03-23|   0|  Sejong|       42|       3|       0|   40|\n",
            "|2020-03-24|   0|  Sejong|       42|       3|       0|   40|\n",
            "|2020-03-25|   0|  Sejong|       44|       3|       0|   41|\n",
            "|2020-03-26|   0|  Sejong|       44|       8|       0|   41|\n",
            "|2020-03-27|   0|  Sejong|       44|       9|       0|   41|\n",
            "|2020-03-28|   0|  Sejong|       44|       9|       0|   41|\n",
            "|2020-03-29|   0|  Sejong|       46|      11|       0|   41|\n",
            "|2020-03-30|   0|  Sejong|       46|      12|       0|   42|\n",
            "+----------+----+--------+---------+--------+--------+-----+\n",
            "only showing top 20 rows\n",
            "\n"
          ],
          "name": "stdout"
        }
      ]
    },
    {
      "cell_type": "code",
      "metadata": {
        "colab": {
          "base_uri": "https://localhost:8080/"
        },
        "id": "xoFB6X39CG6u",
        "outputId": "6d564793-de98-42c8-8c24-b0ab29f54d5d"
      },
      "source": [
        "# Rolling Aggregations\n",
        "from pyspark.sql.window import Window\n",
        "windowSpec = Window().partitionBy(['province']).orderBy('date').rowsBetween(-6,0)\n",
        "timeprovinceWithRoll = timeprovince.withColumn(\"roll_7_confirmed\",F.mean(\"confirmed\").over(windowSpec))\n",
        "timeprovinceWithRoll.filter(timeprovinceWithLag.date>'2020-03-10').show()"
      ],
      "execution_count": 56,
      "outputs": [
        {
          "output_type": "stream",
          "text": [
            "+----------+----+--------+---------+--------+--------+------------------+\n",
            "|      date|time|province|confirmed|released|deceased|  roll_7_confirmed|\n",
            "+----------+----+--------+---------+--------+--------+------------------+\n",
            "|2020-03-11|   0|  Sejong|       10|       0|       0| 4.428571428571429|\n",
            "|2020-03-12|   0|  Sejong|       15|       0|       0| 6.428571428571429|\n",
            "|2020-03-13|   0|  Sejong|       32|       0|       0|10.857142857142858|\n",
            "|2020-03-14|   0|  Sejong|       38|       0|       0|              16.0|\n",
            "|2020-03-15|   0|  Sejong|       39|       0|       0|21.142857142857142|\n",
            "|2020-03-16|   0|  Sejong|       40|       0|       0|              26.0|\n",
            "|2020-03-17|   0|  Sejong|       40|       0|       0|30.571428571428573|\n",
            "|2020-03-18|   0|  Sejong|       41|       0|       0|              35.0|\n",
            "|2020-03-19|   0|  Sejong|       41|       0|       0|38.714285714285715|\n",
            "|2020-03-20|   0|  Sejong|       41|       0|       0|              40.0|\n",
            "|2020-03-21|   0|  Sejong|       41|       2|       0| 40.42857142857143|\n",
            "|2020-03-22|   0|  Sejong|       41|       3|       0|40.714285714285715|\n",
            "|2020-03-23|   0|  Sejong|       42|       3|       0|              41.0|\n",
            "|2020-03-24|   0|  Sejong|       42|       3|       0|41.285714285714285|\n",
            "|2020-03-25|   0|  Sejong|       44|       3|       0|41.714285714285715|\n",
            "|2020-03-26|   0|  Sejong|       44|       8|       0|42.142857142857146|\n",
            "|2020-03-27|   0|  Sejong|       44|       9|       0| 42.57142857142857|\n",
            "|2020-03-28|   0|  Sejong|       44|       9|       0|              43.0|\n",
            "|2020-03-29|   0|  Sejong|       46|      11|       0|43.714285714285715|\n",
            "|2020-03-30|   0|  Sejong|       46|      12|       0|44.285714285714285|\n",
            "+----------+----+--------+---------+--------+--------+------------------+\n",
            "only showing top 20 rows\n",
            "\n"
          ],
          "name": "stdout"
        }
      ]
    },
    {
      "cell_type": "code",
      "metadata": {
        "colab": {
          "base_uri": "https://localhost:8080/"
        },
        "id": "DZhPYcrYCLhp",
        "outputId": "a55835ca-a885-4c52-8d5f-5080d2bb07a3"
      },
      "source": [
        "from pyspark.sql.window import Window\n",
        "windowSpec = Window().partitionBy(['province']).orderBy('date').rowsBetween(Window.unboundedPreceding,Window.currentRow)\n",
        "timeprovinceWithRoll = timeprovince.withColumn(\"cumulative_confirmed\",F.sum(\"confirmed\").over(windowSpec))\n",
        "timeprovinceWithRoll.filter(timeprovinceWithLag.date>'2020-03-10').show()"
      ],
      "execution_count": 57,
      "outputs": [
        {
          "output_type": "stream",
          "text": [
            "+----------+----+--------+---------+--------+--------+--------------------+\n",
            "|      date|time|province|confirmed|released|deceased|cumulative_confirmed|\n",
            "+----------+----+--------+---------+--------+--------+--------------------+\n",
            "|2020-03-11|   0|  Sejong|       10|       0|       0|                  43|\n",
            "|2020-03-12|   0|  Sejong|       15|       0|       0|                  58|\n",
            "|2020-03-13|   0|  Sejong|       32|       0|       0|                  90|\n",
            "|2020-03-14|   0|  Sejong|       38|       0|       0|                 128|\n",
            "|2020-03-15|   0|  Sejong|       39|       0|       0|                 167|\n",
            "|2020-03-16|   0|  Sejong|       40|       0|       0|                 207|\n",
            "|2020-03-17|   0|  Sejong|       40|       0|       0|                 247|\n",
            "|2020-03-18|   0|  Sejong|       41|       0|       0|                 288|\n",
            "|2020-03-19|   0|  Sejong|       41|       0|       0|                 329|\n",
            "|2020-03-20|   0|  Sejong|       41|       0|       0|                 370|\n",
            "|2020-03-21|   0|  Sejong|       41|       2|       0|                 411|\n",
            "|2020-03-22|   0|  Sejong|       41|       3|       0|                 452|\n",
            "|2020-03-23|   0|  Sejong|       42|       3|       0|                 494|\n",
            "|2020-03-24|   0|  Sejong|       42|       3|       0|                 536|\n",
            "|2020-03-25|   0|  Sejong|       44|       3|       0|                 580|\n",
            "|2020-03-26|   0|  Sejong|       44|       8|       0|                 624|\n",
            "|2020-03-27|   0|  Sejong|       44|       9|       0|                 668|\n",
            "|2020-03-28|   0|  Sejong|       44|       9|       0|                 712|\n",
            "|2020-03-29|   0|  Sejong|       46|      11|       0|                 758|\n",
            "|2020-03-30|   0|  Sejong|       46|      12|       0|                 804|\n",
            "+----------+----+--------+---------+--------+--------+--------------------+\n",
            "only showing top 20 rows\n",
            "\n"
          ],
          "name": "stdout"
        }
      ]
    },
    {
      "cell_type": "code",
      "metadata": {
        "colab": {
          "base_uri": "https://localhost:8080/",
          "height": 548
        },
        "id": "WDGLkxt7COUt",
        "outputId": "cb3d4493-46e3-43bd-9556-8220a36dd541"
      },
      "source": [
        "# Pivot Dataframes\n",
        "pivotedTimeprovince = timeprovince.groupBy('date').pivot('province').agg(F.sum('confirmed').alias('confirmed') , F.sum('released').alias('released'))\n",
        "pivotedTimeprovince.limit(10).toPandas()"
      ],
      "execution_count": 58,
      "outputs": [
        {
          "output_type": "execute_result",
          "data": {
            "text/html": [
              "<div>\n",
              "<style scoped>\n",
              "    .dataframe tbody tr th:only-of-type {\n",
              "        vertical-align: middle;\n",
              "    }\n",
              "\n",
              "    .dataframe tbody tr th {\n",
              "        vertical-align: top;\n",
              "    }\n",
              "\n",
              "    .dataframe thead th {\n",
              "        text-align: right;\n",
              "    }\n",
              "</style>\n",
              "<table border=\"1\" class=\"dataframe\">\n",
              "  <thead>\n",
              "    <tr style=\"text-align: right;\">\n",
              "      <th></th>\n",
              "      <th>date</th>\n",
              "      <th>Busan_confirmed</th>\n",
              "      <th>Busan_released</th>\n",
              "      <th>Chungcheongbuk-do_confirmed</th>\n",
              "      <th>Chungcheongbuk-do_released</th>\n",
              "      <th>Chungcheongnam-do_confirmed</th>\n",
              "      <th>Chungcheongnam-do_released</th>\n",
              "      <th>Daegu_confirmed</th>\n",
              "      <th>Daegu_released</th>\n",
              "      <th>Daejeon_confirmed</th>\n",
              "      <th>Daejeon_released</th>\n",
              "      <th>Gangwon-do_confirmed</th>\n",
              "      <th>Gangwon-do_released</th>\n",
              "      <th>Gwangju_confirmed</th>\n",
              "      <th>Gwangju_released</th>\n",
              "      <th>Gyeonggi-do_confirmed</th>\n",
              "      <th>Gyeonggi-do_released</th>\n",
              "      <th>Gyeongsangbuk-do_confirmed</th>\n",
              "      <th>Gyeongsangbuk-do_released</th>\n",
              "      <th>Gyeongsangnam-do_confirmed</th>\n",
              "      <th>Gyeongsangnam-do_released</th>\n",
              "      <th>Incheon_confirmed</th>\n",
              "      <th>Incheon_released</th>\n",
              "      <th>Jeju-do_confirmed</th>\n",
              "      <th>Jeju-do_released</th>\n",
              "      <th>Jeollabuk-do_confirmed</th>\n",
              "      <th>Jeollabuk-do_released</th>\n",
              "      <th>Jeollanam-do_confirmed</th>\n",
              "      <th>Jeollanam-do_released</th>\n",
              "      <th>Sejong_confirmed</th>\n",
              "      <th>Sejong_released</th>\n",
              "      <th>Seoul_confirmed</th>\n",
              "      <th>Seoul_released</th>\n",
              "      <th>Ulsan_confirmed</th>\n",
              "      <th>Ulsan_released</th>\n",
              "    </tr>\n",
              "  </thead>\n",
              "  <tbody>\n",
              "    <tr>\n",
              "      <th>0</th>\n",
              "      <td>2020-04-13</td>\n",
              "      <td>126</td>\n",
              "      <td>103</td>\n",
              "      <td>45</td>\n",
              "      <td>31</td>\n",
              "      <td>139</td>\n",
              "      <td>109</td>\n",
              "      <td>6819</td>\n",
              "      <td>5395</td>\n",
              "      <td>39</td>\n",
              "      <td>23</td>\n",
              "      <td>49</td>\n",
              "      <td>28</td>\n",
              "      <td>27</td>\n",
              "      <td>19</td>\n",
              "      <td>631</td>\n",
              "      <td>305</td>\n",
              "      <td>1337</td>\n",
              "      <td>1020</td>\n",
              "      <td>115</td>\n",
              "      <td>84</td>\n",
              "      <td>87</td>\n",
              "      <td>39</td>\n",
              "      <td>12</td>\n",
              "      <td>5</td>\n",
              "      <td>17</td>\n",
              "      <td>8</td>\n",
              "      <td>15</td>\n",
              "      <td>6</td>\n",
              "      <td>46</td>\n",
              "      <td>22</td>\n",
              "      <td>610</td>\n",
              "      <td>214</td>\n",
              "      <td>41</td>\n",
              "      <td>33</td>\n",
              "    </tr>\n",
              "    <tr>\n",
              "      <th>1</th>\n",
              "      <td>2020-02-26</td>\n",
              "      <td>58</td>\n",
              "      <td>0</td>\n",
              "      <td>5</td>\n",
              "      <td>0</td>\n",
              "      <td>3</td>\n",
              "      <td>0</td>\n",
              "      <td>710</td>\n",
              "      <td>1</td>\n",
              "      <td>5</td>\n",
              "      <td>0</td>\n",
              "      <td>6</td>\n",
              "      <td>0</td>\n",
              "      <td>9</td>\n",
              "      <td>2</td>\n",
              "      <td>51</td>\n",
              "      <td>8</td>\n",
              "      <td>317</td>\n",
              "      <td>1</td>\n",
              "      <td>34</td>\n",
              "      <td>0</td>\n",
              "      <td>3</td>\n",
              "      <td>1</td>\n",
              "      <td>2</td>\n",
              "      <td>0</td>\n",
              "      <td>3</td>\n",
              "      <td>1</td>\n",
              "      <td>1</td>\n",
              "      <td>0</td>\n",
              "      <td>1</td>\n",
              "      <td>0</td>\n",
              "      <td>49</td>\n",
              "      <td>8</td>\n",
              "      <td>4</td>\n",
              "      <td>0</td>\n",
              "    </tr>\n",
              "    <tr>\n",
              "      <th>2</th>\n",
              "      <td>2020-06-24</td>\n",
              "      <td>152</td>\n",
              "      <td>142</td>\n",
              "      <td>62</td>\n",
              "      <td>56</td>\n",
              "      <td>162</td>\n",
              "      <td>146</td>\n",
              "      <td>6903</td>\n",
              "      <td>6687</td>\n",
              "      <td>94</td>\n",
              "      <td>44</td>\n",
              "      <td>63</td>\n",
              "      <td>52</td>\n",
              "      <td>33</td>\n",
              "      <td>32</td>\n",
              "      <td>1137</td>\n",
              "      <td>761</td>\n",
              "      <td>1386</td>\n",
              "      <td>1321</td>\n",
              "      <td>133</td>\n",
              "      <td>124</td>\n",
              "      <td>333</td>\n",
              "      <td>174</td>\n",
              "      <td>19</td>\n",
              "      <td>15</td>\n",
              "      <td>25</td>\n",
              "      <td>20</td>\n",
              "      <td>20</td>\n",
              "      <td>18</td>\n",
              "      <td>49</td>\n",
              "      <td>47</td>\n",
              "      <td>1241</td>\n",
              "      <td>747</td>\n",
              "      <td>55</td>\n",
              "      <td>48</td>\n",
              "    </tr>\n",
              "    <tr>\n",
              "      <th>3</th>\n",
              "      <td>2020-06-08</td>\n",
              "      <td>147</td>\n",
              "      <td>141</td>\n",
              "      <td>61</td>\n",
              "      <td>49</td>\n",
              "      <td>148</td>\n",
              "      <td>143</td>\n",
              "      <td>6888</td>\n",
              "      <td>6641</td>\n",
              "      <td>46</td>\n",
              "      <td>43</td>\n",
              "      <td>58</td>\n",
              "      <td>51</td>\n",
              "      <td>32</td>\n",
              "      <td>30</td>\n",
              "      <td>942</td>\n",
              "      <td>680</td>\n",
              "      <td>1383</td>\n",
              "      <td>1309</td>\n",
              "      <td>124</td>\n",
              "      <td>122</td>\n",
              "      <td>283</td>\n",
              "      <td>118</td>\n",
              "      <td>15</td>\n",
              "      <td>13</td>\n",
              "      <td>21</td>\n",
              "      <td>19</td>\n",
              "      <td>20</td>\n",
              "      <td>17</td>\n",
              "      <td>47</td>\n",
              "      <td>47</td>\n",
              "      <td>996</td>\n",
              "      <td>651</td>\n",
              "      <td>53</td>\n",
              "      <td>46</td>\n",
              "    </tr>\n",
              "    <tr>\n",
              "      <th>4</th>\n",
              "      <td>2020-06-22</td>\n",
              "      <td>150</td>\n",
              "      <td>142</td>\n",
              "      <td>61</td>\n",
              "      <td>56</td>\n",
              "      <td>161</td>\n",
              "      <td>144</td>\n",
              "      <td>6900</td>\n",
              "      <td>6681</td>\n",
              "      <td>82</td>\n",
              "      <td>44</td>\n",
              "      <td>62</td>\n",
              "      <td>52</td>\n",
              "      <td>33</td>\n",
              "      <td>32</td>\n",
              "      <td>1123</td>\n",
              "      <td>753</td>\n",
              "      <td>1385</td>\n",
              "      <td>1320</td>\n",
              "      <td>133</td>\n",
              "      <td>124</td>\n",
              "      <td>329</td>\n",
              "      <td>169</td>\n",
              "      <td>19</td>\n",
              "      <td>15</td>\n",
              "      <td>24</td>\n",
              "      <td>20</td>\n",
              "      <td>20</td>\n",
              "      <td>18</td>\n",
              "      <td>49</td>\n",
              "      <td>47</td>\n",
              "      <td>1224</td>\n",
              "      <td>733</td>\n",
              "      <td>53</td>\n",
              "      <td>48</td>\n",
              "    </tr>\n",
              "    <tr>\n",
              "      <th>5</th>\n",
              "      <td>2020-06-20</td>\n",
              "      <td>150</td>\n",
              "      <td>142</td>\n",
              "      <td>61</td>\n",
              "      <td>55</td>\n",
              "      <td>158</td>\n",
              "      <td>144</td>\n",
              "      <td>6898</td>\n",
              "      <td>6679</td>\n",
              "      <td>72</td>\n",
              "      <td>44</td>\n",
              "      <td>60</td>\n",
              "      <td>52</td>\n",
              "      <td>32</td>\n",
              "      <td>32</td>\n",
              "      <td>1107</td>\n",
              "      <td>741</td>\n",
              "      <td>1384</td>\n",
              "      <td>1319</td>\n",
              "      <td>132</td>\n",
              "      <td>124</td>\n",
              "      <td>328</td>\n",
              "      <td>165</td>\n",
              "      <td>19</td>\n",
              "      <td>15</td>\n",
              "      <td>23</td>\n",
              "      <td>20</td>\n",
              "      <td>20</td>\n",
              "      <td>18</td>\n",
              "      <td>48</td>\n",
              "      <td>47</td>\n",
              "      <td>1202</td>\n",
              "      <td>730</td>\n",
              "      <td>53</td>\n",
              "      <td>48</td>\n",
              "    </tr>\n",
              "    <tr>\n",
              "      <th>6</th>\n",
              "      <td>2020-04-12</td>\n",
              "      <td>126</td>\n",
              "      <td>103</td>\n",
              "      <td>45</td>\n",
              "      <td>29</td>\n",
              "      <td>139</td>\n",
              "      <td>108</td>\n",
              "      <td>6816</td>\n",
              "      <td>5356</td>\n",
              "      <td>39</td>\n",
              "      <td>23</td>\n",
              "      <td>49</td>\n",
              "      <td>27</td>\n",
              "      <td>27</td>\n",
              "      <td>19</td>\n",
              "      <td>628</td>\n",
              "      <td>292</td>\n",
              "      <td>1333</td>\n",
              "      <td>1013</td>\n",
              "      <td>115</td>\n",
              "      <td>84</td>\n",
              "      <td>86</td>\n",
              "      <td>38</td>\n",
              "      <td>12</td>\n",
              "      <td>4</td>\n",
              "      <td>17</td>\n",
              "      <td>8</td>\n",
              "      <td>15</td>\n",
              "      <td>5</td>\n",
              "      <td>46</td>\n",
              "      <td>22</td>\n",
              "      <td>602</td>\n",
              "      <td>202</td>\n",
              "      <td>41</td>\n",
              "      <td>32</td>\n",
              "    </tr>\n",
              "    <tr>\n",
              "      <th>7</th>\n",
              "      <td>2020-02-13</td>\n",
              "      <td>0</td>\n",
              "      <td>0</td>\n",
              "      <td>0</td>\n",
              "      <td>0</td>\n",
              "      <td>0</td>\n",
              "      <td>0</td>\n",
              "      <td>0</td>\n",
              "      <td>0</td>\n",
              "      <td>0</td>\n",
              "      <td>0</td>\n",
              "      <td>0</td>\n",
              "      <td>0</td>\n",
              "      <td>1</td>\n",
              "      <td>0</td>\n",
              "      <td>12</td>\n",
              "      <td>5</td>\n",
              "      <td>0</td>\n",
              "      <td>1</td>\n",
              "      <td>0</td>\n",
              "      <td>0</td>\n",
              "      <td>1</td>\n",
              "      <td>1</td>\n",
              "      <td>0</td>\n",
              "      <td>0</td>\n",
              "      <td>1</td>\n",
              "      <td>1</td>\n",
              "      <td>0</td>\n",
              "      <td>0</td>\n",
              "      <td>0</td>\n",
              "      <td>0</td>\n",
              "      <td>14</td>\n",
              "      <td>2</td>\n",
              "      <td>0</td>\n",
              "      <td>0</td>\n",
              "    </tr>\n",
              "    <tr>\n",
              "      <th>8</th>\n",
              "      <td>2020-04-20</td>\n",
              "      <td>132</td>\n",
              "      <td>115</td>\n",
              "      <td>45</td>\n",
              "      <td>38</td>\n",
              "      <td>141</td>\n",
              "      <td>122</td>\n",
              "      <td>6833</td>\n",
              "      <td>5769</td>\n",
              "      <td>39</td>\n",
              "      <td>26</td>\n",
              "      <td>53</td>\n",
              "      <td>28</td>\n",
              "      <td>30</td>\n",
              "      <td>22</td>\n",
              "      <td>656</td>\n",
              "      <td>387</td>\n",
              "      <td>1361</td>\n",
              "      <td>1064</td>\n",
              "      <td>116</td>\n",
              "      <td>87</td>\n",
              "      <td>92</td>\n",
              "      <td>56</td>\n",
              "      <td>13</td>\n",
              "      <td>6</td>\n",
              "      <td>17</td>\n",
              "      <td>9</td>\n",
              "      <td>15</td>\n",
              "      <td>8</td>\n",
              "      <td>46</td>\n",
              "      <td>29</td>\n",
              "      <td>624</td>\n",
              "      <td>304</td>\n",
              "      <td>43</td>\n",
              "      <td>34</td>\n",
              "    </tr>\n",
              "    <tr>\n",
              "      <th>9</th>\n",
              "      <td>2020-06-09</td>\n",
              "      <td>147</td>\n",
              "      <td>141</td>\n",
              "      <td>61</td>\n",
              "      <td>49</td>\n",
              "      <td>150</td>\n",
              "      <td>143</td>\n",
              "      <td>6888</td>\n",
              "      <td>6643</td>\n",
              "      <td>46</td>\n",
              "      <td>43</td>\n",
              "      <td>58</td>\n",
              "      <td>51</td>\n",
              "      <td>32</td>\n",
              "      <td>30</td>\n",
              "      <td>955</td>\n",
              "      <td>680</td>\n",
              "      <td>1383</td>\n",
              "      <td>1310</td>\n",
              "      <td>125</td>\n",
              "      <td>123</td>\n",
              "      <td>286</td>\n",
              "      <td>121</td>\n",
              "      <td>15</td>\n",
              "      <td>13</td>\n",
              "      <td>21</td>\n",
              "      <td>19</td>\n",
              "      <td>20</td>\n",
              "      <td>17</td>\n",
              "      <td>47</td>\n",
              "      <td>47</td>\n",
              "      <td>1015</td>\n",
              "      <td>664</td>\n",
              "      <td>53</td>\n",
              "      <td>46</td>\n",
              "    </tr>\n",
              "  </tbody>\n",
              "</table>\n",
              "</div>"
            ],
            "text/plain": [
              "         date  Busan_confirmed  ...  Ulsan_confirmed  Ulsan_released\n",
              "0  2020-04-13              126  ...               41              33\n",
              "1  2020-02-26               58  ...                4               0\n",
              "2  2020-06-24              152  ...               55              48\n",
              "3  2020-06-08              147  ...               53              46\n",
              "4  2020-06-22              150  ...               53              48\n",
              "5  2020-06-20              150  ...               53              48\n",
              "6  2020-04-12              126  ...               41              32\n",
              "7  2020-02-13                0  ...                0               0\n",
              "8  2020-04-20              132  ...               43              34\n",
              "9  2020-06-09              147  ...               53              46\n",
              "\n",
              "[10 rows x 35 columns]"
            ]
          },
          "metadata": {
            "tags": []
          },
          "execution_count": 58
        }
      ]
    },
    {
      "cell_type": "code",
      "metadata": {
        "id": "vtDHpR4ECTRD"
      },
      "source": [
        "# Unpivot/Stack Dataframes\n",
        "newColnames = [x.replace(\"-\",\"_\") for x in pivotedTimeprovince.columns]\n",
        "pivotedTimeprovince = pivotedTimeprovince.toDF(*newColnames)"
      ],
      "execution_count": 60,
      "outputs": []
    },
    {
      "cell_type": "code",
      "metadata": {
        "id": "BlBDFNCvCXkm"
      },
      "source": [
        "# Salting\n",
        "\n",
        "# 1. Create a Salting Key\n",
        "cases = cases.withColumn(\"salt_key\", F.concat(F.col(\"infection_case\"), F.lit(\"_\"), F.monotonically_increasing_id() % 10))\n"
      ],
      "execution_count": 63,
      "outputs": []
    },
    {
      "cell_type": "code",
      "metadata": {
        "colab": {
          "base_uri": "https://localhost:8080/"
        },
        "id": "YgxdbCICCpHg",
        "outputId": "1104acd9-92da-42ad-cfbb-b66e0fedb7bd"
      },
      "source": [
        "# 2. First Groupby on salt key\n",
        "\n",
        "cases_temp = cases.groupBy([\"infection_case\",\"salt_key\"]).agg(F.sum(\"confirmed\")).show()\n"
      ],
      "execution_count": 64,
      "outputs": [
        {
          "output_type": "stream",
          "text": [
            "+--------------------+--------------------+--------------+\n",
            "|      infection_case|            salt_key|sum(confirmed)|\n",
            "+--------------------+--------------------+--------------+\n",
            "|     Wangsung Church|   Wangsung Church_6|             6|\n",
            "|     Yongin Brothers|   Yongin Brothers_0|             4|\n",
            "|Bundang Jesaeng H...|Bundang Jesaeng H...|            22|\n",
            "|   KB Life Insurance| KB Life Insurance_2|            13|\n",
            "|Door-to-door sale...|Door-to-door sale...|            10|\n",
            "| Guro-gu Call Center|Guro-gu Call Cent...|            97|\n",
            "|Suyeong-gu Kinder...|Suyeong-gu Kinder...|             5|\n",
            "|         Orange Life|       Orange Life_3|             1|\n",
            "|  Gwangneuksa Temple|Gwangneuksa Temple_8|             5|\n",
            "|Korea Campus Crus...|Korea Campus Crus...|             7|\n",
            "|     Wangsung Church|   Wangsung Church_9|            30|\n",
            "|     Geochang Church|   Geochang Church_9|            10|\n",
            "|Geochang-gun Woon...|Geochang-gun Woon...|             8|\n",
            "|Jung-gu Fashion C...|Jung-gu Fashion C...|             7|\n",
            "|contact with patient|contact with pati...|             3|\n",
            "|       Itaewon Clubs|     Itaewon Clubs_3|            60|\n",
            "|contact with patient|contact with pati...|            30|\n",
            "|       Onchun Church|     Onchun Church_6|             2|\n",
            "|                 etc|               etc_1|            84|\n",
            "|             Richway|           Richway_0|             3|\n",
            "+--------------------+--------------------+--------------+\n",
            "only showing top 20 rows\n",
            "\n"
          ],
          "name": "stdout"
        }
      ]
    },
    {
      "cell_type": "markdown",
      "metadata": {
        "id": "2pGYXEw_DOXF"
      },
      "source": [
        "Caching\n",
        "Spark works on the lazy execution principle. What that means is that nothing really gets executed until you use an action function like the .count() on a dataframe. And if you do a .count function, it generally helps to cache at this step. So I have made it a point to cache() my dataframes whenever I do a .count() operation."
      ]
    },
    {
      "cell_type": "code",
      "metadata": {
        "colab": {
          "base_uri": "https://localhost:8080/"
        },
        "id": "DFjyq9OMCr0d",
        "outputId": "6dcb006c-aecb-4564-b64d-a4717747cd17"
      },
      "source": [
        "cases.cache().count()"
      ],
      "execution_count": 67,
      "outputs": [
        {
          "output_type": "execute_result",
          "data": {
            "text/plain": [
              "174"
            ]
          },
          "metadata": {
            "tags": []
          },
          "execution_count": 67
        }
      ]
    },
    {
      "cell_type": "code",
      "metadata": {
        "colab": {
          "base_uri": "https://localhost:8080/",
          "height": 387
        },
        "id": "42ljiodSDVjU",
        "outputId": "6967fc99-e781-40e9-bf67-03494d9db630"
      },
      "source": [
        "#Save and Load from an intermediate step\n",
        "cases.write.parquet(\"data/cases.parquet\")\n",
        "cases.unpersist()\n",
        "spark.read.load(\"data/cases.parquet\")"
      ],
      "execution_count": 70,
      "outputs": [
        {
          "output_type": "error",
          "ename": "AnalysisException",
          "evalue": "ignored",
          "traceback": [
            "\u001b[0;31m---------------------------------------------------------------------------\u001b[0m",
            "\u001b[0;31mAnalysisException\u001b[0m                         Traceback (most recent call last)",
            "\u001b[0;32m<ipython-input-70-505ab5d60b70>\u001b[0m in \u001b[0;36m<module>\u001b[0;34m()\u001b[0m\n\u001b[1;32m      1\u001b[0m \u001b[0;31m#Save and Load from an intermediate step\u001b[0m\u001b[0;34m\u001b[0m\u001b[0;34m\u001b[0m\u001b[0;34m\u001b[0m\u001b[0m\n\u001b[0;32m----> 2\u001b[0;31m \u001b[0mcases\u001b[0m\u001b[0;34m.\u001b[0m\u001b[0mwrite\u001b[0m\u001b[0;34m.\u001b[0m\u001b[0mparquet\u001b[0m\u001b[0;34m(\u001b[0m\u001b[0;34m\"data/cases.parquet\"\u001b[0m\u001b[0;34m)\u001b[0m\u001b[0;34m\u001b[0m\u001b[0;34m\u001b[0m\u001b[0m\n\u001b[0m\u001b[1;32m      3\u001b[0m \u001b[0mcases\u001b[0m\u001b[0;34m.\u001b[0m\u001b[0munpersist\u001b[0m\u001b[0;34m(\u001b[0m\u001b[0;34m)\u001b[0m\u001b[0;34m\u001b[0m\u001b[0;34m\u001b[0m\u001b[0m\n\u001b[1;32m      4\u001b[0m \u001b[0mspark\u001b[0m\u001b[0;34m.\u001b[0m\u001b[0mread\u001b[0m\u001b[0;34m.\u001b[0m\u001b[0mload\u001b[0m\u001b[0;34m(\u001b[0m\u001b[0;34m\"data/cases.parquet\"\u001b[0m\u001b[0;34m)\u001b[0m\u001b[0;34m\u001b[0m\u001b[0;34m\u001b[0m\u001b[0m\n",
            "\u001b[0;32m/content/spark-3.1.1-bin-hadoop2.7/python/pyspark/sql/readwriter.py\u001b[0m in \u001b[0;36mparquet\u001b[0;34m(self, path, mode, partitionBy, compression)\u001b[0m\n\u001b[1;32m   1247\u001b[0m             \u001b[0mself\u001b[0m\u001b[0;34m.\u001b[0m\u001b[0mpartitionBy\u001b[0m\u001b[0;34m(\u001b[0m\u001b[0mpartitionBy\u001b[0m\u001b[0;34m)\u001b[0m\u001b[0;34m\u001b[0m\u001b[0;34m\u001b[0m\u001b[0m\n\u001b[1;32m   1248\u001b[0m         \u001b[0mself\u001b[0m\u001b[0;34m.\u001b[0m\u001b[0m_set_opts\u001b[0m\u001b[0;34m(\u001b[0m\u001b[0mcompression\u001b[0m\u001b[0;34m=\u001b[0m\u001b[0mcompression\u001b[0m\u001b[0;34m)\u001b[0m\u001b[0;34m\u001b[0m\u001b[0;34m\u001b[0m\u001b[0m\n\u001b[0;32m-> 1249\u001b[0;31m         \u001b[0mself\u001b[0m\u001b[0;34m.\u001b[0m\u001b[0m_jwrite\u001b[0m\u001b[0;34m.\u001b[0m\u001b[0mparquet\u001b[0m\u001b[0;34m(\u001b[0m\u001b[0mpath\u001b[0m\u001b[0;34m)\u001b[0m\u001b[0;34m\u001b[0m\u001b[0;34m\u001b[0m\u001b[0m\n\u001b[0m\u001b[1;32m   1250\u001b[0m \u001b[0;34m\u001b[0m\u001b[0m\n\u001b[1;32m   1251\u001b[0m     \u001b[0;32mdef\u001b[0m \u001b[0mtext\u001b[0m\u001b[0;34m(\u001b[0m\u001b[0mself\u001b[0m\u001b[0;34m,\u001b[0m \u001b[0mpath\u001b[0m\u001b[0;34m,\u001b[0m \u001b[0mcompression\u001b[0m\u001b[0;34m=\u001b[0m\u001b[0;32mNone\u001b[0m\u001b[0;34m,\u001b[0m \u001b[0mlineSep\u001b[0m\u001b[0;34m=\u001b[0m\u001b[0;32mNone\u001b[0m\u001b[0;34m)\u001b[0m\u001b[0;34m:\u001b[0m\u001b[0;34m\u001b[0m\u001b[0;34m\u001b[0m\u001b[0m\n",
            "\u001b[0;32m/content/spark-3.1.1-bin-hadoop2.7/python/lib/py4j-0.10.9-src.zip/py4j/java_gateway.py\u001b[0m in \u001b[0;36m__call__\u001b[0;34m(self, *args)\u001b[0m\n\u001b[1;32m   1303\u001b[0m         \u001b[0manswer\u001b[0m \u001b[0;34m=\u001b[0m \u001b[0mself\u001b[0m\u001b[0;34m.\u001b[0m\u001b[0mgateway_client\u001b[0m\u001b[0;34m.\u001b[0m\u001b[0msend_command\u001b[0m\u001b[0;34m(\u001b[0m\u001b[0mcommand\u001b[0m\u001b[0;34m)\u001b[0m\u001b[0;34m\u001b[0m\u001b[0;34m\u001b[0m\u001b[0m\n\u001b[1;32m   1304\u001b[0m         return_value = get_return_value(\n\u001b[0;32m-> 1305\u001b[0;31m             answer, self.gateway_client, self.target_id, self.name)\n\u001b[0m\u001b[1;32m   1306\u001b[0m \u001b[0;34m\u001b[0m\u001b[0m\n\u001b[1;32m   1307\u001b[0m         \u001b[0;32mfor\u001b[0m \u001b[0mtemp_arg\u001b[0m \u001b[0;32min\u001b[0m \u001b[0mtemp_args\u001b[0m\u001b[0;34m:\u001b[0m\u001b[0;34m\u001b[0m\u001b[0;34m\u001b[0m\u001b[0m\n",
            "\u001b[0;32m/content/spark-3.1.1-bin-hadoop2.7/python/pyspark/sql/utils.py\u001b[0m in \u001b[0;36mdeco\u001b[0;34m(*a, **kw)\u001b[0m\n\u001b[1;32m    115\u001b[0m                 \u001b[0;31m# Hide where the exception came from that shows a non-Pythonic\u001b[0m\u001b[0;34m\u001b[0m\u001b[0;34m\u001b[0m\u001b[0;34m\u001b[0m\u001b[0m\n\u001b[1;32m    116\u001b[0m                 \u001b[0;31m# JVM exception message.\u001b[0m\u001b[0;34m\u001b[0m\u001b[0;34m\u001b[0m\u001b[0;34m\u001b[0m\u001b[0m\n\u001b[0;32m--> 117\u001b[0;31m                 \u001b[0;32mraise\u001b[0m \u001b[0mconverted\u001b[0m \u001b[0;32mfrom\u001b[0m \u001b[0;32mNone\u001b[0m\u001b[0;34m\u001b[0m\u001b[0;34m\u001b[0m\u001b[0m\n\u001b[0m\u001b[1;32m    118\u001b[0m             \u001b[0;32melse\u001b[0m\u001b[0;34m:\u001b[0m\u001b[0;34m\u001b[0m\u001b[0;34m\u001b[0m\u001b[0m\n\u001b[1;32m    119\u001b[0m                 \u001b[0;32mraise\u001b[0m\u001b[0;34m\u001b[0m\u001b[0;34m\u001b[0m\u001b[0m\n",
            "\u001b[0;31mAnalysisException\u001b[0m: Found duplicate column(s) when inserting into file:/content/data/cases.parquet: `academy_ratio`, `code`, `elderly_alone_ratio`, `elderly_population_ratio`, `elementary_school_count`, `kindergarten_count`, `latitude`, `longitude`, `nursing_home_count`, `university_count`"
          ]
        }
      ]
    },
    {
      "cell_type": "code",
      "metadata": {
        "id": "5iEqvp_gDdsE"
      },
      "source": [
        "# Repartitioning\n",
        "cases = cases.repartition(1000)\n"
      ],
      "execution_count": 71,
      "outputs": []
    },
    {
      "cell_type": "code",
      "metadata": {
        "colab": {
          "base_uri": "https://localhost:8080/",
          "height": 1000
        },
        "id": "JnMSdY3qDq1V",
        "outputId": "8d2f9023-b197-4e79-f58f-2400bd202fa0"
      },
      "source": [
        "cases = cases.repartition('cola', 'colb','colc','cold')\n"
      ],
      "execution_count": 73,
      "outputs": [
        {
          "output_type": "error",
          "ename": "AnalysisException",
          "evalue": "ignored",
          "traceback": [
            "\u001b[0;31m---------------------------------------------------------------------------\u001b[0m",
            "\u001b[0;31mAnalysisException\u001b[0m                         Traceback (most recent call last)",
            "\u001b[0;32m<ipython-input-73-8e10245fec64>\u001b[0m in \u001b[0;36m<module>\u001b[0;34m()\u001b[0m\n\u001b[0;32m----> 1\u001b[0;31m \u001b[0mcases\u001b[0m \u001b[0;34m=\u001b[0m \u001b[0mcases\u001b[0m\u001b[0;34m.\u001b[0m\u001b[0mrepartition\u001b[0m\u001b[0;34m(\u001b[0m\u001b[0;34m'cola'\u001b[0m\u001b[0;34m,\u001b[0m \u001b[0;34m'colb'\u001b[0m\u001b[0;34m,\u001b[0m\u001b[0;34m'colc'\u001b[0m\u001b[0;34m,\u001b[0m\u001b[0;34m'cold'\u001b[0m\u001b[0;34m)\u001b[0m\u001b[0;34m\u001b[0m\u001b[0;34m\u001b[0m\u001b[0m\n\u001b[0m",
            "\u001b[0;32m/content/spark-3.1.1-bin-hadoop2.7/python/pyspark/sql/dataframe.py\u001b[0m in \u001b[0;36mrepartition\u001b[0;34m(self, numPartitions, *cols)\u001b[0m\n\u001b[1;32m    940\u001b[0m         \u001b[0;32melif\u001b[0m \u001b[0misinstance\u001b[0m\u001b[0;34m(\u001b[0m\u001b[0mnumPartitions\u001b[0m\u001b[0;34m,\u001b[0m \u001b[0;34m(\u001b[0m\u001b[0mstr\u001b[0m\u001b[0;34m,\u001b[0m \u001b[0mColumn\u001b[0m\u001b[0;34m)\u001b[0m\u001b[0;34m)\u001b[0m\u001b[0;34m:\u001b[0m\u001b[0;34m\u001b[0m\u001b[0;34m\u001b[0m\u001b[0m\n\u001b[1;32m    941\u001b[0m             \u001b[0mcols\u001b[0m \u001b[0;34m=\u001b[0m \u001b[0;34m(\u001b[0m\u001b[0mnumPartitions\u001b[0m\u001b[0;34m,\u001b[0m \u001b[0;34m)\u001b[0m \u001b[0;34m+\u001b[0m \u001b[0mcols\u001b[0m\u001b[0;34m\u001b[0m\u001b[0;34m\u001b[0m\u001b[0m\n\u001b[0;32m--> 942\u001b[0;31m             \u001b[0;32mreturn\u001b[0m \u001b[0mDataFrame\u001b[0m\u001b[0;34m(\u001b[0m\u001b[0mself\u001b[0m\u001b[0;34m.\u001b[0m\u001b[0m_jdf\u001b[0m\u001b[0;34m.\u001b[0m\u001b[0mrepartition\u001b[0m\u001b[0;34m(\u001b[0m\u001b[0mself\u001b[0m\u001b[0;34m.\u001b[0m\u001b[0m_jcols\u001b[0m\u001b[0;34m(\u001b[0m\u001b[0;34m*\u001b[0m\u001b[0mcols\u001b[0m\u001b[0;34m)\u001b[0m\u001b[0;34m)\u001b[0m\u001b[0;34m,\u001b[0m \u001b[0mself\u001b[0m\u001b[0;34m.\u001b[0m\u001b[0msql_ctx\u001b[0m\u001b[0;34m)\u001b[0m\u001b[0;34m\u001b[0m\u001b[0;34m\u001b[0m\u001b[0m\n\u001b[0m\u001b[1;32m    943\u001b[0m         \u001b[0;32melse\u001b[0m\u001b[0;34m:\u001b[0m\u001b[0;34m\u001b[0m\u001b[0;34m\u001b[0m\u001b[0m\n\u001b[1;32m    944\u001b[0m             \u001b[0;32mraise\u001b[0m \u001b[0mTypeError\u001b[0m\u001b[0;34m(\u001b[0m\u001b[0;34m\"numPartitions should be an int or Column\"\u001b[0m\u001b[0;34m)\u001b[0m\u001b[0;34m\u001b[0m\u001b[0;34m\u001b[0m\u001b[0m\n",
            "\u001b[0;32m/content/spark-3.1.1-bin-hadoop2.7/python/lib/py4j-0.10.9-src.zip/py4j/java_gateway.py\u001b[0m in \u001b[0;36m__call__\u001b[0;34m(self, *args)\u001b[0m\n\u001b[1;32m   1303\u001b[0m         \u001b[0manswer\u001b[0m \u001b[0;34m=\u001b[0m \u001b[0mself\u001b[0m\u001b[0;34m.\u001b[0m\u001b[0mgateway_client\u001b[0m\u001b[0;34m.\u001b[0m\u001b[0msend_command\u001b[0m\u001b[0;34m(\u001b[0m\u001b[0mcommand\u001b[0m\u001b[0;34m)\u001b[0m\u001b[0;34m\u001b[0m\u001b[0;34m\u001b[0m\u001b[0m\n\u001b[1;32m   1304\u001b[0m         return_value = get_return_value(\n\u001b[0;32m-> 1305\u001b[0;31m             answer, self.gateway_client, self.target_id, self.name)\n\u001b[0m\u001b[1;32m   1306\u001b[0m \u001b[0;34m\u001b[0m\u001b[0m\n\u001b[1;32m   1307\u001b[0m         \u001b[0;32mfor\u001b[0m \u001b[0mtemp_arg\u001b[0m \u001b[0;32min\u001b[0m \u001b[0mtemp_args\u001b[0m\u001b[0;34m:\u001b[0m\u001b[0;34m\u001b[0m\u001b[0;34m\u001b[0m\u001b[0m\n",
            "\u001b[0;32m/content/spark-3.1.1-bin-hadoop2.7/python/pyspark/sql/utils.py\u001b[0m in \u001b[0;36mdeco\u001b[0;34m(*a, **kw)\u001b[0m\n\u001b[1;32m    115\u001b[0m                 \u001b[0;31m# Hide where the exception came from that shows a non-Pythonic\u001b[0m\u001b[0;34m\u001b[0m\u001b[0;34m\u001b[0m\u001b[0;34m\u001b[0m\u001b[0m\n\u001b[1;32m    116\u001b[0m                 \u001b[0;31m# JVM exception message.\u001b[0m\u001b[0;34m\u001b[0m\u001b[0;34m\u001b[0m\u001b[0;34m\u001b[0m\u001b[0m\n\u001b[0;32m--> 117\u001b[0;31m                 \u001b[0;32mraise\u001b[0m \u001b[0mconverted\u001b[0m \u001b[0;32mfrom\u001b[0m \u001b[0;32mNone\u001b[0m\u001b[0;34m\u001b[0m\u001b[0;34m\u001b[0m\u001b[0m\n\u001b[0m\u001b[1;32m    118\u001b[0m             \u001b[0;32melse\u001b[0m\u001b[0;34m:\u001b[0m\u001b[0;34m\u001b[0m\u001b[0;34m\u001b[0m\u001b[0m\n\u001b[1;32m    119\u001b[0m                 \u001b[0;32mraise\u001b[0m\u001b[0;34m\u001b[0m\u001b[0;34m\u001b[0m\u001b[0m\n",
            "\u001b[0;31mAnalysisException\u001b[0m: cannot resolve '`cola`' given input columns: [academy_ratio, academy_ratio, academy_ratio, city, code, code, code, confirmed, elderly_alone_ratio, elderly_alone_ratio, elderly_alone_ratio, elderly_population_ratio, elderly_population_ratio, elderly_population_ratio, elementary_school_count, elementary_school_count, elementary_school_count, infection_case, kindergarten_count, kindergarten_count, kindergarten_count, latitude, latitude, latitude, longitude, longitude, longitude, nursing_home_count, nursing_home_count, nursing_home_count, province, salt_key, university_count, university_count, university_count];\n'RepartitionByExpression ['cola, 'colb, 'colc, 'cold]\n+- Repartition 1000, true\n   +- Project [province#318, city#446, infection_case#321, confirmed#441, code#581, latitude#584, longitude#585, elementary_school_count#586, kindergarten_count#587, university_count#588, academy_ratio#589, elderly_population_ratio#590, elderly_alone_ratio#591, nursing_home_count#592, code#647, latitude#650, longitude#651, elementary_school_count#652, kindergarten_count#653, university_count#654, academy_ratio#655, elderly_population_ratio#656, elderly_alone_ratio#657, nursing_home_count#658, ... 11 more fields]\n      +- Project [province#318, city#446, infection_case#321, confirmed#441, code#581, latitude#584, longitude#585, elementary_school_count#586, kindergarten_count#587, university_count#588, academy_ratio#589, elderly_population_ratio#590, elderly_alone_ratio#591, nursing_home_count#592, code#647, latitude#650, longitude#651, elementary_school_count#652, kindergarten_count#653, university_count#654, academy_ratio#655, elderly_population_ratio#656, elderly_alone_ratio#657, nursing_home_count#658, ... 10 more fields]\n         +- Join LeftOuter, ((province#318 = province#684) AND (city#446 = city#685))\n            :- Project [province#318, city#446, infection_case#321, confirmed#441, code#581, latitude#584, longitude#585, elementary_school_count#586, kindergarten_count#587, university_count#588, academy_ratio#589, elderly_population_ratio#590, elderly_alone_ratio#591, nursing_home_count#592, code#647, latitude#650, longitude#651, elementary_school_count#652, kindergarten_count#653, university_count#654, academy_ratio#655, elderly_population_ratio#656, elderly_alone_ratio#657, nursing_home_count#658]\n            :  +- Join LeftOuter, ((province#318 = province#648) AND (city#446 = city#649))\n            :     :- Project [province#318, city#446, infection_case#321, confirmed#441, code#581, latitude#584, longitude#585, elementary_school_count#586, kindergarten_count#587, university_count#588, academy_ratio#589, elderly_population_ratio#590, elderly_alone_ratio#591, nursing_home_count#592]\n            :     :  +- Join LeftOuter, ((province#318 = province#582) AND (city#446 = city#583))\n            :     :     :- Project [province#318, cast(city#319 as string) AS city#446, infection_case#321, confirmed#441]\n            :     :     :  +- Project [province#318, city#319, infection_case#321, cast(confirmed#322 as int) AS confirmed#441]\n            :     :     :     +- Project [province#318, city#319, infection_case#321, confirmed#322]\n            :     :     :        +- Project [case_id#260 AS case_id#317, province#261 AS province#318, city#262 AS city#319, group#263 AS group#320, infection_case#264 AS infection_case#321, confirmed#265 AS confirmed#322, latitude#266 AS latitude#323, longitude#267 AS longitude#324]\n            :     :     :           +- Project [case_id#236 AS case_id#260, province#237 AS province#261, city#238 AS city#262, group#239 AS group#263, infection_case#240 AS infection_case#264, confirmed#241 AS confirmed#265, latitude#242 AS latitude#266, longitude#243 AS longitude#267]\n            :     :     :              +- Project [case_id#179 AS case_id#236, province#180 AS province#237, city#181 AS city#238, group#182 AS group#239, infection_case#183 AS infection_case#240, confirmed#184 AS confirmed#241, latitude#185 AS latitude#242, longitude#186 AS longitude#243]\n            :     :     :                 +- Project [case_id#163 AS case_id#179, province#164 AS province#180, city#165 AS city#181, group#166 AS group#182, infection_case#167 AS infection_case#183, confirmed#168 AS confirmed#184, latitude#169 AS latitude#185, longitude#170 AS longitude#186]\n            :     :     :                    +- Project [ case_id#48 AS case_id#163, province#49 AS province#164, city#50 AS city#165, group#51 AS group#166, infection_source#113 AS infection_case#167, confirmed#53 AS confirmed#168, latitude#54 AS latitude#169, longitude#55 AS longitude#170]\n            :     :     :                       +- Project [ case_id#48, province#49, city#50, group#51, infection_case#52 AS infection_source#113, confirmed#53, latitude#54, longitude#55]\n            :     :     :                          +- Relation[ case_id#48,province#49,city#50,group#51,infection_case#52,confirmed#53,latitude#54,longitude#55] csv\n            :     :     +- Relation[code#581,province#582,city#583,latitude#584,longitude#585,elementary_school_count#586,kindergarten_count#587,university_count#588,academy_ratio#589,elderly_population_ratio#590,elderly_alone_ratio#591,nursing_home_count#592] csv\n            :     +- ResolvedHint (strategy=broadcast)\n            :        +- Relation[code#647,province#648,city#649,latitude#650,longitude#651,elementary_school_count#652,kindergarten_count#653,university_count#654,academy_ratio#655,elderly_population_ratio#656,elderly_alone_ratio#657,nursing_home_count#658] csv\n            +- ResolvedHint (strategy=broadcast)\n               +- Relation[code#683,province#684,city#685,latitude#686,longitude#687,elementary_school_count#688,kindergarten_count#689,university_count#690,academy_ratio#691,elderly_population_ratio#692,elderly_alone_ratio#693,nursing_home_count#694] csv\n"
          ]
        }
      ]
    },
    {
      "cell_type": "code",
      "metadata": {
        "colab": {
          "base_uri": "https://localhost:8080/"
        },
        "id": "s4wU1YmcDt0Q",
        "outputId": "73d1d2aa-ec2c-4ae0-f33e-45f54c90f81d"
      },
      "source": [
        "cases.rdd.getNumPartitions()\n"
      ],
      "execution_count": 74,
      "outputs": [
        {
          "output_type": "execute_result",
          "data": {
            "text/plain": [
              "1000"
            ]
          },
          "metadata": {
            "tags": []
          },
          "execution_count": 74
        }
      ]
    },
    {
      "cell_type": "code",
      "metadata": {
        "colab": {
          "base_uri": "https://localhost:8080/",
          "height": 279
        },
        "id": "HhSvdZgRDw56",
        "outputId": "5e4c2ec7-da16-4573-86ef-25434db53a0c"
      },
      "source": [
        "cases.glom().map(len).collect()"
      ],
      "execution_count": 76,
      "outputs": [
        {
          "output_type": "error",
          "ename": "AttributeError",
          "evalue": "ignored",
          "traceback": [
            "\u001b[0;31m---------------------------------------------------------------------------\u001b[0m",
            "\u001b[0;31mAttributeError\u001b[0m                            Traceback (most recent call last)",
            "\u001b[0;32m<ipython-input-76-0d1b28af8242>\u001b[0m in \u001b[0;36m<module>\u001b[0;34m()\u001b[0m\n\u001b[0;32m----> 1\u001b[0;31m \u001b[0mcases\u001b[0m\u001b[0;34m.\u001b[0m\u001b[0mglom\u001b[0m\u001b[0;34m(\u001b[0m\u001b[0;34m)\u001b[0m\u001b[0;34m.\u001b[0m\u001b[0mmap\u001b[0m\u001b[0;34m(\u001b[0m\u001b[0mlen\u001b[0m\u001b[0;34m)\u001b[0m\u001b[0;34m.\u001b[0m\u001b[0mcollect\u001b[0m\u001b[0;34m(\u001b[0m\u001b[0;34m)\u001b[0m\u001b[0;34m\u001b[0m\u001b[0;34m\u001b[0m\u001b[0m\n\u001b[0m",
            "\u001b[0;32m/content/spark-3.1.1-bin-hadoop2.7/python/pyspark/sql/dataframe.py\u001b[0m in \u001b[0;36m__getattr__\u001b[0;34m(self, name)\u001b[0m\n\u001b[1;32m   1642\u001b[0m         \u001b[0;32mif\u001b[0m \u001b[0mname\u001b[0m \u001b[0;32mnot\u001b[0m \u001b[0;32min\u001b[0m \u001b[0mself\u001b[0m\u001b[0;34m.\u001b[0m\u001b[0mcolumns\u001b[0m\u001b[0;34m:\u001b[0m\u001b[0;34m\u001b[0m\u001b[0;34m\u001b[0m\u001b[0m\n\u001b[1;32m   1643\u001b[0m             raise AttributeError(\n\u001b[0;32m-> 1644\u001b[0;31m                 \"'%s' object has no attribute '%s'\" % (self.__class__.__name__, name))\n\u001b[0m\u001b[1;32m   1645\u001b[0m         \u001b[0mjc\u001b[0m \u001b[0;34m=\u001b[0m \u001b[0mself\u001b[0m\u001b[0;34m.\u001b[0m\u001b[0m_jdf\u001b[0m\u001b[0;34m.\u001b[0m\u001b[0mapply\u001b[0m\u001b[0;34m(\u001b[0m\u001b[0mname\u001b[0m\u001b[0;34m)\u001b[0m\u001b[0;34m\u001b[0m\u001b[0;34m\u001b[0m\u001b[0m\n\u001b[1;32m   1646\u001b[0m         \u001b[0;32mreturn\u001b[0m \u001b[0mColumn\u001b[0m\u001b[0;34m(\u001b[0m\u001b[0mjc\u001b[0m\u001b[0;34m)\u001b[0m\u001b[0;34m\u001b[0m\u001b[0;34m\u001b[0m\u001b[0m\n",
            "\u001b[0;31mAttributeError\u001b[0m: 'DataFrame' object has no attribute 'glom'"
          ]
        }
      ]
    },
    {
      "cell_type": "code",
      "metadata": {
        "id": "9hIJt-QUD0tT"
      },
      "source": [
        "from glob import glob\n",
        "def load_df_from_parquet(parquet_directory):\n",
        "   cases = pd.DataFrame()\n",
        "   for file in glob(f\"{parquet_directory}/*\"):\n",
        "      cases = pd.concat([cases,pd.read_parquet(file)])\n",
        "   return cases"
      ],
      "execution_count": 78,
      "outputs": []
    }
  ]
}